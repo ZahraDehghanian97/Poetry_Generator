{
  "nbformat": 4,
  "nbformat_minor": 0,
  "metadata": {
    "colab": {
      "name": "Char_Poem_generator.ipynb",
      "provenance": [],
      "authorship_tag": "ABX9TyMPDsvuprjERXwnJjulNwqW",
      "include_colab_link": true
    },
    "kernelspec": {
      "name": "python3",
      "display_name": "Python 3"
    },
    "language_info": {
      "name": "python"
    }
  },
  "cells": [
    {
      "cell_type": "markdown",
      "metadata": {
        "id": "view-in-github",
        "colab_type": "text"
      },
      "source": [
        "<a href=\"https://colab.research.google.com/github/zahraDehghanian97/Poetry_Generator/blob/master/Char_Poem_generator.ipynb\" target=\"_parent\"><img src=\"https://colab.research.google.com/assets/colab-badge.svg\" alt=\"Open In Colab\"/></a>"
      ]
    },
    {
      "cell_type": "code",
      "metadata": {
        "id": "nF-7m57sBgdp"
      },
      "source": [
        "import tensorflow as tf\n",
        "from tensorflow import keras\n",
        "import numpy as np\n",
        "import pandas as pd\n",
        "\n",
        "import matplotlib.pyplot as plt\n",
        "import os\n",
        "import time"
      ],
      "execution_count": null,
      "outputs": []
    },
    {
      "cell_type": "markdown",
      "metadata": {
        "id": "wXgkMK0iMQDL"
      },
      "source": [
        "# Load the data"
      ]
    },
    {
      "cell_type": "code",
      "metadata": {
        "id": "l8wd1saxwPtu",
        "colab": {
          "base_uri": "https://localhost:8080/",
          "height": 51
        },
        "outputId": "6b7159ac-8acf-4ea0-f20f-7dd20de4fdde"
      },
      "source": [
        "url = \"https://raw.githubusercontent.com/aliakbarbadri/persian-poetry-creator/master/shahname2.txt\"\n",
        "filepath = keras.utils.get_file(\"shahname2.txt\", url) \n",
        "corpus = open(filepath, 'rb').read().decode(encoding='utf-8')\n",
        "corpus = corpus.replace(\"\\t\",\" \\t \").replace(\"\\n\", \" \\n \")"
      ],
      "execution_count": null,
      "outputs": [
        {
          "output_type": "stream",
          "text": [
            "Downloading data from https://raw.githubusercontent.com/aliakbarbadri/persian-poetry-creator/master/shahname2.txt\n",
            "4554752/4553829 [==============================] - 0s 0us/step\n"
          ],
          "name": "stdout"
        }
      ]
    },
    {
      "cell_type": "code",
      "metadata": {
        "id": "OHzCO_cSlYoO",
        "colab": {
          "base_uri": "https://localhost:8080/",
          "height": 34
        },
        "outputId": "7d7d5270-7130-405b-d554-6181a1c73a31"
      },
      "source": [
        "vocab = sorted(set(corpus))\n",
        "print(len(vocab), \"chars\")"
      ],
      "execution_count": null,
      "outputs": [
        {
          "output_type": "stream",
          "text": [
            "48 chars\n"
          ],
          "name": "stdout"
        }
      ]
    },
    {
      "cell_type": "code",
      "metadata": {
        "id": "S8ehHLWYLtqw",
        "colab": {
          "base_uri": "https://localhost:8080/",
          "height": 54
        },
        "outputId": "830a8248-8bec-420b-e9d6-c97bccf06213"
      },
      "source": [
        "print(vocab)"
      ],
      "execution_count": null,
      "outputs": [
        {
          "output_type": "stream",
          "text": [
            "['\\t', '\\n', ' ', '(', ')', '«', '»', '،', '؟', 'ء', 'آ', 'أ', 'ؤ', 'ئ', 'ا', 'ب', 'ت', 'ث', 'ج', 'ح', 'خ', 'د', 'ذ', 'ر', 'ز', 'س', 'ش', 'ص', 'ض', 'ط', 'ظ', 'ع', 'غ', 'ف', 'ق', 'ل', 'م', 'ن', 'ه', 'و', 'ٔ', 'پ', 'چ', 'ژ', 'ک', 'گ', 'ی', '\\u200c']\n"
          ],
          "name": "stdout"
        }
      ]
    },
    {
      "cell_type": "code",
      "metadata": {
        "id": "Y9JzIK9elja4"
      },
      "source": [
        "char2idx = {u:i for i, u in enumerate(vocab)}\n",
        "idx2char = np.array(vocab)\n",
        "text_as_int = np.array([char2idx[c] for c in corpus])"
      ],
      "execution_count": null,
      "outputs": []
    },
    {
      "cell_type": "code",
      "metadata": {
        "id": "U22k7ShUl0xm"
      },
      "source": [
        "seq_length = 1000\n",
        "examples_per_epoch = len(corpus)//(seq_length+1)\n",
        "char_dataset = tf.data.Dataset.from_tensor_slices(text_as_int)\n",
        "sequences = char_dataset.batch(seq_length+1, drop_remainder=True)"
      ],
      "execution_count": null,
      "outputs": []
    },
    {
      "cell_type": "code",
      "metadata": {
        "id": "4XlooC1Ongpo"
      },
      "source": [
        "def split_input_target(chunk):\n",
        "    input_text = chunk[:-1]\n",
        "    target_text = chunk[1:]\n",
        "    return input_text, target_text\n",
        "\n",
        "dataset = sequences.map(split_input_target)"
      ],
      "execution_count": null,
      "outputs": []
    },
    {
      "cell_type": "code",
      "metadata": {
        "id": "FfQ5q86yoePB",
        "colab": {
          "base_uri": "https://localhost:8080/",
          "height": 34
        },
        "outputId": "44f30c10-e11a-432a-94cf-b02312514331"
      },
      "source": [
        "BATCH_SIZE = 64\n",
        "BUFFER_SIZE = 10000\n",
        "dataset = dataset.shuffle(BUFFER_SIZE).batch(BATCH_SIZE, drop_remainder=True)\n",
        "dataset"
      ],
      "execution_count": null,
      "outputs": [
        {
          "output_type": "execute_result",
          "data": {
            "text/plain": [
              "<BatchDataset shapes: ((64, 1000), (64, 1000)), types: (tf.int64, tf.int64)>"
            ]
          },
          "metadata": {
            "tags": []
          },
          "execution_count": 8
        }
      ]
    },
    {
      "cell_type": "markdown",
      "metadata": {
        "id": "Xps-ncLV4wmQ"
      },
      "source": [
        "# Model (LSTM)"
      ]
    },
    {
      "cell_type": "code",
      "metadata": {
        "id": "jAMXrqzeIQn5"
      },
      "source": [
        "vocab_size = len(vocab)\n",
        "embedding_dim = 256\n",
        "rnn_units = 1024"
      ],
      "execution_count": null,
      "outputs": []
    },
    {
      "cell_type": "code",
      "metadata": {
        "id": "6l1UtOJ6p4Dx"
      },
      "source": [
        "def generate_text(model, start_string, temperature = 1.0):\n",
        "  num_generate = 1000\n",
        "  input_eval = [char2idx[s] for s in start_string]\n",
        "  input_eval = tf.expand_dims(input_eval, 0)\n",
        "  text_generated = []\n",
        "  model.reset_states()\n",
        "  for i in range(num_generate):\n",
        "      predictions = model(input_eval)\n",
        "      predictions = tf.squeeze(predictions, 0)\n",
        "      predictions = predictions / temperature\n",
        "      predicted_id = tf.random.categorical(predictions, num_samples=1)[-1,0].numpy()\n",
        "      input_eval = tf.expand_dims([predicted_id], 0)\n",
        "      text_generated.append(idx2char[predicted_id])\n",
        "  return (start_string + ''.join(text_generated))"
      ],
      "execution_count": null,
      "outputs": []
    },
    {
      "cell_type": "code",
      "metadata": {
        "id": "RUs3-KqUSNpN"
      },
      "source": [
        "def create_model_lstm(vocab_size=vocab_size, embedding_dim=embedding_dim, rnn_units=rnn_units, batch_size=BATCH_SIZE):\n",
        "  model = keras.Sequential()\n",
        "  model.add(tf.keras.layers.Embedding(vocab_size, embedding_dim,\n",
        "                              batch_input_shape=[batch_size, None]))\n",
        "  model.add(tf.keras.layers.LSTM(rnn_units,return_sequences=True,stateful=True,\n",
        "                              recurrent_initializer='glorot_uniform',\n",
        "                              recurrent_regularizer=keras.regularizers.l2(0.01)\n",
        "                              ))\n",
        "  model.add(tf.keras.layers.LSTM(rnn_units,return_sequences=True,stateful=True,\n",
        "                              recurrent_initializer='glorot_uniform',\n",
        "                              recurrent_regularizer=keras.regularizers.l2(0.01)\n",
        "                              ))\n",
        "  model.add(tf.keras.layers.Dense(vocab_size))\n",
        "  \n",
        "  return model"
      ],
      "execution_count": null,
      "outputs": []
    },
    {
      "cell_type": "code",
      "metadata": {
        "id": "Jyj4BBqnSZAz",
        "colab": {
          "base_uri": "https://localhost:8080/",
          "height": 561
        },
        "outputId": "17653990-3666-46f5-8f0c-f58746015544"
      },
      "source": [
        "lstm_model = create_model_lstm()\n",
        "lstm_model.summary()\n",
        "lstm_model.compile(optimizer='adam', loss=keras.losses.SparseCategoricalCrossentropy(from_logits=True), metrics=['accuracy'])\n",
        "lstm_model.summary()"
      ],
      "execution_count": null,
      "outputs": [
        {
          "output_type": "stream",
          "text": [
            "Model: \"sequential_1\"\n",
            "_________________________________________________________________\n",
            "Layer (type)                 Output Shape              Param #   \n",
            "=================================================================\n",
            "embedding_1 (Embedding)      (64, None, 256)           12288     \n",
            "_________________________________________________________________\n",
            "lstm (LSTM)                  (64, None, 1024)          5246976   \n",
            "_________________________________________________________________\n",
            "lstm_1 (LSTM)                (64, None, 1024)          8392704   \n",
            "_________________________________________________________________\n",
            "dense_1 (Dense)              (64, None, 48)            49200     \n",
            "=================================================================\n",
            "Total params: 13,701,168\n",
            "Trainable params: 13,701,168\n",
            "Non-trainable params: 0\n",
            "_________________________________________________________________\n",
            "Model: \"sequential_1\"\n",
            "_________________________________________________________________\n",
            "Layer (type)                 Output Shape              Param #   \n",
            "=================================================================\n",
            "embedding_1 (Embedding)      (64, None, 256)           12288     \n",
            "_________________________________________________________________\n",
            "lstm (LSTM)                  (64, None, 1024)          5246976   \n",
            "_________________________________________________________________\n",
            "lstm_1 (LSTM)                (64, None, 1024)          8392704   \n",
            "_________________________________________________________________\n",
            "dense_1 (Dense)              (64, None, 48)            49200     \n",
            "=================================================================\n",
            "Total params: 13,701,168\n",
            "Trainable params: 13,701,168\n",
            "Non-trainable params: 0\n",
            "_________________________________________________________________\n"
          ],
          "name": "stdout"
        }
      ]
    },
    {
      "cell_type": "code",
      "metadata": {
        "id": "dW_4VOPHHK4r",
        "colab": {
          "base_uri": "https://localhost:8080/",
          "height": 533
        },
        "outputId": "a8b410d8-dca3-4c8e-ecb0-68fae47cbec0"
      },
      "source": [
        "keras.utils.plot_model(lstm_model, show_shapes=True, show_layer_names=True, expand_nested=True)"
      ],
      "execution_count": null,
      "outputs": [
        {
          "output_type": "execute_result",
          "data": {
            "image/png": "[encoded data removed]",
            "text/plain": [
              "<IPython.core.display.Image object>"
            ]
          },
          "metadata": {
            "tags": []
          },
          "execution_count": 16
        }
      ]
    },
    {
      "cell_type": "code",
      "metadata": {
        "id": "p6iQZhUSSg3Y",
        "colab": {
          "base_uri": "https://localhost:8080/",
          "height": 1000
        },
        "outputId": "90aed546-6da1-4d4e-ee1b-5504f8e25662"
      },
      "source": [
        "history = lstm_model.fit(dataset, epochs=50)"
      ],
      "execution_count": null,
      "outputs": [
        {
          "output_type": "stream",
          "text": [
            "Epoch 1/50\n",
            "42/42 [==============================] - 143s 3s/step - loss: 12.9389 - accuracy: 0.2126\n",
            "Epoch 2/50\n",
            "42/42 [==============================] - 145s 3s/step - loss: 3.4909 - accuracy: 0.2674\n",
            "Epoch 3/50\n",
            "42/42 [==============================] - 145s 3s/step - loss: 2.6487 - accuracy: 0.3036\n",
            "Epoch 4/50\n",
            "42/42 [==============================] - 145s 3s/step - loss: 2.4302 - accuracy: 0.3320\n",
            "Epoch 5/50\n",
            "42/42 [==============================] - 145s 3s/step - loss: 2.3159 - accuracy: 0.3452\n",
            "Epoch 6/50\n",
            "42/42 [==============================] - 145s 3s/step - loss: 2.2287 - accuracy: 0.3622\n",
            "Epoch 7/50\n",
            "42/42 [==============================] - 145s 3s/step - loss: 2.1557 - accuracy: 0.3777\n",
            "Epoch 8/50\n",
            "42/42 [==============================] - 144s 3s/step - loss: 2.1006 - accuracy: 0.3915\n",
            "Epoch 9/50\n",
            "42/42 [==============================] - 144s 3s/step - loss: 2.0357 - accuracy: 0.4050\n",
            "Epoch 10/50\n",
            "42/42 [==============================] - 144s 3s/step - loss: 1.9800 - accuracy: 0.4178\n",
            "Epoch 11/50\n",
            "42/42 [==============================] - 144s 3s/step - loss: 1.9272 - accuracy: 0.4343\n",
            "Epoch 12/50\n",
            "42/42 [==============================] - 144s 3s/step - loss: 1.8766 - accuracy: 0.4491\n",
            "Epoch 13/50\n",
            "42/42 [==============================] - 144s 3s/step - loss: 1.8359 - accuracy: 0.4604\n",
            "Epoch 14/50\n",
            "42/42 [==============================] - 146s 3s/step - loss: 1.7845 - accuracy: 0.4747\n",
            "Epoch 15/50\n",
            "42/42 [==============================] - 146s 3s/step - loss: 1.7483 - accuracy: 0.4854\n",
            "Epoch 16/50\n",
            "42/42 [==============================] - 146s 3s/step - loss: 1.7143 - accuracy: 0.4940\n",
            "Epoch 17/50\n",
            "42/42 [==============================] - 146s 3s/step - loss: 1.6734 - accuracy: 0.5043\n",
            "Epoch 18/50\n",
            "42/42 [==============================] - 146s 3s/step - loss: 1.6409 - accuracy: 0.5128\n",
            "Epoch 19/50\n",
            "42/42 [==============================] - 146s 3s/step - loss: 1.6311 - accuracy: 0.5172\n",
            "Epoch 20/50\n",
            "42/42 [==============================] - 145s 3s/step - loss: 1.5848 - accuracy: 0.5287\n",
            "Epoch 21/50\n",
            "42/42 [==============================] - 146s 3s/step - loss: 1.5610 - accuracy: 0.5371\n",
            "Epoch 22/50\n",
            "42/42 [==============================] - 146s 3s/step - loss: 1.5404 - accuracy: 0.5482\n",
            "Epoch 23/50\n",
            "42/42 [==============================] - 146s 3s/step - loss: 1.5141 - accuracy: 0.5578\n",
            "Epoch 24/50\n",
            "42/42 [==============================] - 146s 3s/step - loss: 1.4898 - accuracy: 0.5622\n",
            "Epoch 25/50\n",
            "42/42 [==============================] - 146s 3s/step - loss: 1.4692 - accuracy: 0.5669\n",
            "Epoch 26/50\n",
            "42/42 [==============================] - 146s 3s/step - loss: 1.4542 - accuracy: 0.5707\n",
            "Epoch 27/50\n",
            "42/42 [==============================] - 146s 3s/step - loss: 1.4395 - accuracy: 0.5744\n",
            "Epoch 28/50\n",
            "42/42 [==============================] - 146s 3s/step - loss: 1.4224 - accuracy: 0.5793\n",
            "Epoch 29/50\n",
            "42/42 [==============================] - 146s 3s/step - loss: 1.4105 - accuracy: 0.5822\n",
            "Epoch 30/50\n",
            "42/42 [==============================] - 146s 3s/step - loss: 1.4000 - accuracy: 0.5849\n",
            "Epoch 31/50\n",
            "42/42 [==============================] - 146s 3s/step - loss: 1.3862 - accuracy: 0.5891\n",
            "Epoch 32/50\n",
            "42/42 [==============================] - 146s 3s/step - loss: 1.3750 - accuracy: 0.5920\n",
            "Epoch 33/50\n",
            "42/42 [==============================] - 146s 3s/step - loss: 1.3669 - accuracy: 0.5941\n",
            "Epoch 34/50\n",
            "42/42 [==============================] - 146s 3s/step - loss: 1.3551 - accuracy: 0.5974\n",
            "Epoch 35/50\n",
            "42/42 [==============================] - 146s 3s/step - loss: 1.3462 - accuracy: 0.6000\n",
            "Epoch 36/50\n",
            "42/42 [==============================] - 145s 3s/step - loss: 1.3378 - accuracy: 0.6023\n",
            "Epoch 37/50\n",
            "42/42 [==============================] - 146s 3s/step - loss: 1.3268 - accuracy: 0.6054\n",
            "Epoch 38/50\n",
            "42/42 [==============================] - 146s 3s/step - loss: 1.3216 - accuracy: 0.6069\n",
            "Epoch 39/50\n",
            "42/42 [==============================] - 146s 3s/step - loss: 1.3096 - accuracy: 0.6106\n",
            "Epoch 40/50\n",
            "42/42 [==============================] - 146s 3s/step - loss: 1.3024 - accuracy: 0.6123\n",
            "Epoch 41/50\n",
            "42/42 [==============================] - 146s 3s/step - loss: 1.2928 - accuracy: 0.6154\n",
            "Epoch 42/50\n",
            "42/42 [==============================] - 146s 3s/step - loss: 1.2847 - accuracy: 0.6176\n",
            "Epoch 43/50\n",
            "42/42 [==============================] - 146s 3s/step - loss: 1.2799 - accuracy: 0.6192\n",
            "Epoch 44/50\n",
            "42/42 [==============================] - 146s 3s/step - loss: 1.2724 - accuracy: 0.6214\n",
            "Epoch 45/50\n",
            "42/42 [==============================] - 146s 3s/step - loss: 1.2637 - accuracy: 0.6238\n",
            "Epoch 46/50\n",
            "42/42 [==============================] - 146s 3s/step - loss: 1.2580 - accuracy: 0.6256\n",
            "Epoch 47/50\n",
            "42/42 [==============================] - 146s 3s/step - loss: 1.2491 - accuracy: 0.6282\n",
            "Epoch 48/50\n",
            "42/42 [==============================] - 146s 3s/step - loss: 1.2424 - accuracy: 0.6303\n",
            "Epoch 49/50\n",
            "42/42 [==============================] - 146s 3s/step - loss: 1.2355 - accuracy: 0.6324\n",
            "Epoch 50/50\n",
            "42/42 [==============================] - 146s 3s/step - loss: 1.2305 - accuracy: 0.6338\n"
          ],
          "name": "stdout"
        }
      ]
    },
    {
      "cell_type": "code",
      "metadata": {
        "id": "J4wenCz264fC",
        "colab": {
          "base_uri": "https://localhost:8080/",
          "height": 289
        },
        "outputId": "85c17f0e-421e-4261-c229-49e259bba546"
      },
      "source": [
        "main_lstm_model = create_model_lstm(batch_size=1)\n",
        "main_lstm_model.set_weights(lstm_model.get_weights())\n",
        "main_lstm_model.summary()"
      ],
      "execution_count": null,
      "outputs": [
        {
          "output_type": "stream",
          "text": [
            "Model: \"sequential_1\"\n",
            "_________________________________________________________________\n",
            "Layer (type)                 Output Shape              Param #   \n",
            "=================================================================\n",
            "embedding_1 (Embedding)      (1, None, 256)            12288     \n",
            "_________________________________________________________________\n",
            "lstm_2 (LSTM)                (1, None, 1024)           5246976   \n",
            "_________________________________________________________________\n",
            "lstm_3 (LSTM)                (1, None, 1024)           8392704   \n",
            "_________________________________________________________________\n",
            "dense_1 (Dense)              (1, None, 48)             49200     \n",
            "=================================================================\n",
            "Total params: 13,701,168\n",
            "Trainable params: 13,701,168\n",
            "Non-trainable params: 0\n",
            "_________________________________________________________________\n"
          ],
          "name": "stdout"
        }
      ]
    },
    {
      "cell_type": "code",
      "metadata": {
        "id": "Np3PB9lKvq9T"
      },
      "source": [
        "# main_lstm_model = tf.keras.models.load_model('char_lstm.h5')\n",
        "# main_lstm_model.summary()"
      ],
      "execution_count": null,
      "outputs": []
    },
    {
      "cell_type": "code",
      "metadata": {
        "id": "B0Zr4oM6666b",
        "colab": {
          "base_uri": "https://localhost:8080/",
          "height": 340
        },
        "outputId": "76d582e2-38cb-4c66-f7f2-7918b91c015b"
      },
      "source": [
        "print(generate_text(main_lstm_model, start_string=u\"که ایران چوباغیست خرم بهار\", temperature=1))"
      ],
      "execution_count": null,
      "outputs": [
        {
          "output_type": "stream",
          "text": [
            "که ایران چوباغیست خرم بهار \t نهاده بنشست با با ساو بدند \n",
            " ز درین یزدان نیکی تیره‌رون \t به پوزش همی کرد رخ با سپاه \n",
            " به چیزبان به پیداز او رستم \t نه پی رخ شد جوید گوی و هوش \n",
            " چو خردان به گردن افراسیاب \t جز از تو گرد کرد و گردد راه \n",
            " چنین گفت گودرز و خوردی و ماه \t بدانی که با و توران بر نهاد جای \n",
            " کلیدم نزدیک او برگزین \t وزان پس خجسته فراوان شنید \n",
            " سوی بادی سرت دستور باش \t همی تا بادافر و خسرو به جای \n",
            " چو برگشت زن یک لشکر بنده‌ایم \t برزم و برین خوردن سال هزار \n",
            " بر تخت زرنگ و ننگ نونونیز \t تو گفتی از نامورش نیک‌بخت \n",
            " وزو گشت لرزبادی مجلد \t سر برش دل مردم اگراز \n",
            " بدو گفت بر زمان بگویی \t تو را نیایش کن جز بیشتی \n",
            " اگر برگشته از به بر تخت \t که در جنا تن دست برد یاد جفت \n",
            " برآمد سرکشان به طیل ژیان \t ز ترکان هوشی کدادی پدید \n",
            " اگر تیز لشکر بگویی درشت \t ستاره شد باد لب خفتان جنگ \n",
            " نخفتی ز کهرم چنین تا سرفراز \t کمربست و بر تن و بناداز \n",
            " بخواند پیرام و جوان جوان \t ز بسر فرش تابد سر دیوار \n",
            " برفتند خواهی که اندر مخ بشاه \t کمان تا کس باید باید نگفت \n",
            " همی‌گفت سیاه ده گنجور هیچ گرد \t شد از پیش اندکیمگان مدار \n",
            " وزان روم بود آن شهر\n"
          ],
          "name": "stdout"
        }
      ]
    },
    {
      "cell_type": "code",
      "metadata": {
        "id": "aa_kGUq8MT6s"
      },
      "source": [
        "main_lstm_model.save(\"char_lstm.h5\")"
      ],
      "execution_count": null,
      "outputs": []
    }
  ]
}