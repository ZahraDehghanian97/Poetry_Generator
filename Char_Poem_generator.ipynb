{
  "nbformat": 4,
  "nbformat_minor": 0,
  "metadata": {
    "colab": {
      "name": "Char_Poem_generator.ipynb",
      "provenance": [],
      "mount_file_id": "1PelofUsJ3U1xWcIYS9Ry4I0VN-7LXbGF",
      "authorship_tag": "ABX9TyMNqBkdWmnX/GANDfqjNOju",
      "include_colab_link": true
    },
    "kernelspec": {
      "name": "python3",
      "display_name": "Python 3"
    },
    "language_info": {
      "name": "python"
    },
    "accelerator": "GPU"
  },
  "cells": [
    {
      "cell_type": "markdown",
      "metadata": {
        "id": "view-in-github",
        "colab_type": "text"
      },
      "source": [
        "<a href=\"https://colab.research.google.com/github/zahraDehghanian97/Poetry_Generator/blob/master/Char_Poem_generator.ipynb\" target=\"_parent\"><img src=\"https://colab.research.google.com/assets/colab-badge.svg\" alt=\"Open In Colab\"/></a>"
      ]
    },
    {
      "cell_type": "code",
      "metadata": {
        "id": "nF-7m57sBgdp"
      },
      "source": [
        "import tensorflow as tf\n",
        "from tensorflow import keras\n",
        "import numpy as np\n",
        "import pandas as pd\n",
        "import matplotlib.pyplot as plt\n",
        "import os\n",
        "import time"
      ],
      "execution_count": 4,
      "outputs": []
    },
    {
      "cell_type": "code",
      "metadata": {
        "id": "jAMXrqzeIQn5"
      },
      "source": [
        "BATCH_SIZE = 64\n",
        "BUFFER_SIZE = 10000\n",
        "embedding_dim = 256\n",
        "rnn_units = 1024"
      ],
      "execution_count": 5,
      "outputs": []
    },
    {
      "cell_type": "markdown",
      "metadata": {
        "id": "wXgkMK0iMQDL"
      },
      "source": [
        "# make data ready"
      ]
    },
    {
      "cell_type": "code",
      "metadata": {
        "id": "l8wd1saxwPtu"
      },
      "source": [
        "filepath = \"/content/drive/MyDrive/Colab Notebooks/shahname.txt\"\n",
        "corpus = open(filepath, 'rb').read().decode(encoding='utf-8')\n",
        "corpus = corpus.replace(\"\\t\",\" \\t \").replace(\"\\n\", \" \\n \")"
      ],
      "execution_count": 6,
      "outputs": []
    },
    {
      "cell_type": "code",
      "metadata": {
        "id": "Y9JzIK9elja4",
        "colab": {
          "base_uri": "https://localhost:8080/"
        },
        "outputId": "cab4842e-5d14-4ad8-8633-fc280db463cb"
      },
      "source": [
        "vocab = sorted(set(corpus))\n",
        "vocab_size = len(vocab)\n",
        "print(len(vocab), \"chars\")\n",
        "char2idx = {u:i for i, u in enumerate(vocab)}\n",
        "print(char2idx)\n",
        "idx2char = np.array(vocab)"
      ],
      "execution_count": 7,
      "outputs": [
        {
          "output_type": "stream",
          "text": [
            "48 chars\n",
            "{'\\t': 0, '\\n': 1, ' ': 2, '(': 3, ')': 4, '«': 5, '»': 6, '،': 7, '؟': 8, 'ء': 9, 'آ': 10, 'أ': 11, 'ؤ': 12, 'ئ': 13, 'ا': 14, 'ب': 15, 'ت': 16, 'ث': 17, 'ج': 18, 'ح': 19, 'خ': 20, 'د': 21, 'ذ': 22, 'ر': 23, 'ز': 24, 'س': 25, 'ش': 26, 'ص': 27, 'ض': 28, 'ط': 29, 'ظ': 30, 'ع': 31, 'غ': 32, 'ف': 33, 'ق': 34, 'ل': 35, 'م': 36, 'ن': 37, 'ه': 38, 'و': 39, 'ٔ': 40, 'پ': 41, 'چ': 42, 'ژ': 43, 'ک': 44, 'گ': 45, 'ی': 46, '\\u200c': 47}\n"
          ],
          "name": "stdout"
        }
      ]
    },
    {
      "cell_type": "code",
      "metadata": {
        "id": "U22k7ShUl0xm",
        "colab": {
          "base_uri": "https://localhost:8080/"
        },
        "outputId": "376f5111-8374-4141-cd5d-24a0b755bd74"
      },
      "source": [
        "def split_input_target(chunk):\n",
        "    input_text = chunk[:-1]\n",
        "    target_text = chunk[1:]\n",
        "    return input_text, target_text\n",
        "\n",
        "text_as_int = np.array([char2idx[c] for c in corpus])\n",
        "seq_length = 1000\n",
        "# examples_per_epoch = len(corpus)//(seq_length+1)\n",
        "char_dataset = tf.data.Dataset.from_tensor_slices(text_as_int)\n",
        "sequences = char_dataset.batch(seq_length+1, drop_remainder=True)\n",
        "print(sequences)\n",
        "dataset = sequences.map(split_input_target)\n",
        "dataset = dataset.shuffle(BUFFER_SIZE).batch(BATCH_SIZE, drop_remainder=True)\n",
        "print(dataset)"
      ],
      "execution_count": 8,
      "outputs": [
        {
          "output_type": "stream",
          "text": [
            "<BatchDataset shapes: (1001,), types: tf.int64>\n",
            "<BatchDataset shapes: ((64, 1000), (64, 1000)), types: (tf.int64, tf.int64)>\n"
          ],
          "name": "stdout"
        }
      ]
    },
    {
      "cell_type": "markdown",
      "metadata": {
        "id": "Xps-ncLV4wmQ"
      },
      "source": [
        "# LSTM Model"
      ]
    },
    {
      "cell_type": "code",
      "metadata": {
        "id": "RUs3-KqUSNpN"
      },
      "source": [
        "def create_model_lstm(vocab_size=vocab_size, embedding_dim=embedding_dim, rnn_units=rnn_units, batch_size=BATCH_SIZE):\n",
        "  model = keras.Sequential()\n",
        "  model.add(tf.keras.layers.Embedding(vocab_size, embedding_dim,batch_input_shape=[batch_size, None]))\n",
        "  model.add(tf.keras.layers.LSTM(rnn_units,return_sequences=True,stateful=True,recurrent_initializer='glorot_uniform',recurrent_regularizer=keras.regularizers.l2(0.01)))\n",
        "  model.add(tf.keras.layers.LSTM(rnn_units,return_sequences=True,stateful=True,recurrent_initializer='glorot_uniform',recurrent_regularizer=keras.regularizers.l2(0.01)))\n",
        "  model.add(tf.keras.layers.Dense(vocab_size))\n",
        "  return model"
      ],
      "execution_count": 9,
      "outputs": []
    },
    {
      "cell_type": "code",
      "metadata": {
        "id": "Jyj4BBqnSZAz",
        "colab": {
          "base_uri": "https://localhost:8080/"
        },
        "outputId": "098985e0-adf3-43ca-b34f-03a634444d8d"
      },
      "source": [
        "lstm_model = create_model_lstm()\n",
        "lstm_model.compile(optimizer='adam', loss=keras.losses.SparseCategoricalCrossentropy(from_logits=True), metrics=['accuracy'])\n",
        "history = lstm_model.fit(dataset, epochs=50)\n",
        "main_lstm_model = create_model_lstm(batch_size=1)\n",
        "main_lstm_model.set_weights(lstm_model.get_weights())\n",
        "# main_lstm_model = tf.keras.models.load_model('char_lstm.h5')\n",
        "main_lstm_model.summary()"
      ],
      "execution_count": 10,
      "outputs": [
        {
          "output_type": "stream",
          "text": [
            "Epoch 1/50\n",
            "42/42 [==============================] - 178s 4s/step - loss: 12.0322 - accuracy: 0.2160\n",
            "Epoch 2/50\n",
            "42/42 [==============================] - 176s 4s/step - loss: 3.0005 - accuracy: 0.2733\n",
            "Epoch 3/50\n",
            "42/42 [==============================] - 174s 4s/step - loss: 2.4754 - accuracy: 0.3094\n",
            "Epoch 4/50\n",
            "42/42 [==============================] - 171s 4s/step - loss: 2.3729 - accuracy: 0.3366\n",
            "Epoch 5/50\n",
            "42/42 [==============================] - 172s 4s/step - loss: 2.2592 - accuracy: 0.3558\n",
            "Epoch 6/50\n",
            "42/42 [==============================] - 176s 4s/step - loss: 2.1934 - accuracy: 0.3711\n",
            "Epoch 7/50\n",
            "42/42 [==============================] - 178s 4s/step - loss: 2.1009 - accuracy: 0.3920\n",
            "Epoch 8/50\n",
            "42/42 [==============================] - 185s 4s/step - loss: 2.0265 - accuracy: 0.4077\n",
            "Epoch 9/50\n",
            "42/42 [==============================] - 193s 5s/step - loss: 1.9596 - accuracy: 0.4275\n",
            "Epoch 10/50\n",
            "42/42 [==============================] - 192s 5s/step - loss: 1.9014 - accuracy: 0.4434\n",
            "Epoch 11/50\n",
            "42/42 [==============================] - 189s 4s/step - loss: 1.8307 - accuracy: 0.4616\n",
            "Epoch 12/50\n",
            "42/42 [==============================] - 187s 4s/step - loss: 1.7817 - accuracy: 0.4740\n",
            "Epoch 13/50\n",
            "42/42 [==============================] - 187s 4s/step - loss: 1.7383 - accuracy: 0.4868\n",
            "Epoch 14/50\n",
            "42/42 [==============================] - 191s 5s/step - loss: 1.6934 - accuracy: 0.4986\n",
            "Epoch 15/50\n",
            "42/42 [==============================] - 191s 5s/step - loss: 1.6482 - accuracy: 0.5110\n",
            "Epoch 16/50\n",
            "42/42 [==============================] - 189s 4s/step - loss: 1.6160 - accuracy: 0.5198\n",
            "Epoch 17/50\n",
            "42/42 [==============================] - 190s 4s/step - loss: 1.5805 - accuracy: 0.5300\n",
            "Epoch 18/50\n",
            "42/42 [==============================] - 184s 4s/step - loss: 1.5497 - accuracy: 0.5431\n",
            "Epoch 19/50\n",
            "42/42 [==============================] - 192s 5s/step - loss: 1.5276 - accuracy: 0.5536\n",
            "Epoch 20/50\n",
            "42/42 [==============================] - 188s 4s/step - loss: 1.4872 - accuracy: 0.5635\n",
            "Epoch 21/50\n",
            "42/42 [==============================] - 183s 4s/step - loss: 1.4658 - accuracy: 0.5684\n",
            "Epoch 22/50\n",
            "42/42 [==============================] - 194s 5s/step - loss: 1.4432 - accuracy: 0.5740\n",
            "Epoch 23/50\n",
            "42/42 [==============================] - 185s 4s/step - loss: 1.4255 - accuracy: 0.5789\n",
            "Epoch 24/50\n",
            "42/42 [==============================] - 184s 4s/step - loss: 1.4084 - accuracy: 0.5833\n",
            "Epoch 25/50\n",
            "42/42 [==============================] - 182s 4s/step - loss: 1.3933 - accuracy: 0.5874\n",
            "Epoch 26/50\n",
            "42/42 [==============================] - 186s 4s/step - loss: 1.3799 - accuracy: 0.5907\n",
            "Epoch 27/50\n",
            "42/42 [==============================] - 185s 4s/step - loss: 1.3694 - accuracy: 0.5938\n",
            "Epoch 28/50\n",
            "42/42 [==============================] - 179s 4s/step - loss: 1.3562 - accuracy: 0.5976\n",
            "Epoch 29/50\n",
            "42/42 [==============================] - 181s 4s/step - loss: 1.3396 - accuracy: 0.6021\n",
            "Epoch 30/50\n",
            "42/42 [==============================] - 181s 4s/step - loss: 1.3308 - accuracy: 0.6044\n",
            "Epoch 31/50\n",
            "42/42 [==============================] - 187s 4s/step - loss: 1.3207 - accuracy: 0.6072\n",
            "Epoch 32/50\n",
            "42/42 [==============================] - 183s 4s/step - loss: 1.3099 - accuracy: 0.6104\n",
            "Epoch 33/50\n",
            "42/42 [==============================] - 181s 4s/step - loss: 1.3021 - accuracy: 0.6129\n",
            "Epoch 34/50\n",
            "42/42 [==============================] - 181s 4s/step - loss: 1.2910 - accuracy: 0.6159\n",
            "Epoch 35/50\n",
            "42/42 [==============================] - 177s 4s/step - loss: 1.2815 - accuracy: 0.6189\n",
            "Epoch 36/50\n",
            "42/42 [==============================] - 177s 4s/step - loss: 1.2716 - accuracy: 0.6217\n",
            "Epoch 37/50\n",
            "42/42 [==============================] - 181s 4s/step - loss: 1.2639 - accuracy: 0.6238\n",
            "Epoch 38/50\n",
            "42/42 [==============================] - 182s 4s/step - loss: 1.2558 - accuracy: 0.6262\n",
            "Epoch 39/50\n",
            "42/42 [==============================] - 184s 4s/step - loss: 1.2478 - accuracy: 0.6286\n",
            "Epoch 40/50\n",
            "42/42 [==============================] - 181s 4s/step - loss: 1.2554 - accuracy: 0.6272\n",
            "Epoch 41/50\n",
            "42/42 [==============================] - 178s 4s/step - loss: 1.2331 - accuracy: 0.6331\n",
            "Epoch 42/50\n",
            "42/42 [==============================] - 179s 4s/step - loss: 1.2232 - accuracy: 0.6360\n",
            "Epoch 43/50\n",
            "42/42 [==============================] - 181s 4s/step - loss: 1.2175 - accuracy: 0.6376\n",
            "Epoch 44/50\n",
            "42/42 [==============================] - 180s 4s/step - loss: 1.2107 - accuracy: 0.6398\n",
            "Epoch 45/50\n",
            "42/42 [==============================] - 177s 4s/step - loss: 1.2046 - accuracy: 0.6414\n",
            "Epoch 46/50\n",
            "42/42 [==============================] - 182s 4s/step - loss: 1.1980 - accuracy: 0.6434\n",
            "Epoch 47/50\n",
            "42/42 [==============================] - 180s 4s/step - loss: 1.1929 - accuracy: 0.6451\n",
            "Epoch 48/50\n",
            "42/42 [==============================] - 181s 4s/step - loss: 1.1833 - accuracy: 0.6478\n",
            "Epoch 49/50\n",
            "42/42 [==============================] - 179s 4s/step - loss: 1.1812 - accuracy: 0.6485\n",
            "Epoch 50/50\n",
            "42/42 [==============================] - 186s 4s/step - loss: 1.1723 - accuracy: 0.6511\n",
            "Model: \"sequential_1\"\n",
            "_________________________________________________________________\n",
            "Layer (type)                 Output Shape              Param #   \n",
            "=================================================================\n",
            "embedding_1 (Embedding)      (1, None, 256)            12288     \n",
            "_________________________________________________________________\n",
            "lstm_2 (LSTM)                (1, None, 1024)           5246976   \n",
            "_________________________________________________________________\n",
            "lstm_3 (LSTM)                (1, None, 1024)           8392704   \n",
            "_________________________________________________________________\n",
            "dense_1 (Dense)              (1, None, 48)             49200     \n",
            "=================================================================\n",
            "Total params: 13,701,168\n",
            "Trainable params: 13,701,168\n",
            "Non-trainable params: 0\n",
            "_________________________________________________________________\n"
          ],
          "name": "stdout"
        }
      ]
    },
    {
      "cell_type": "code",
      "metadata": {
        "id": "6l1UtOJ6p4Dx"
      },
      "source": [
        "def generate_text(model, start_string, temperature = 0.6):\n",
        "  num_generate = 1000\n",
        "  input_eval = [char2idx[s] for s in start_string]\n",
        "  input_eval = tf.expand_dims(input_eval, 0)\n",
        "  text_generated = []\n",
        "  model.reset_states()\n",
        "  for i in range(num_generate):\n",
        "      predictions = model(input_eval)\n",
        "      predictions = tf.squeeze(predictions, 0)\n",
        "      predictions = predictions / temperature\n",
        "      predicted_id = tf.random.categorical(predictions, num_samples=1)[-1,0].numpy()\n",
        "      input_eval = tf.expand_dims([predicted_id], 0)\n",
        "      text_generated.append(idx2char[predicted_id])\n",
        "  return (start_string + ''.join(text_generated))"
      ],
      "execution_count": 11,
      "outputs": []
    },
    {
      "cell_type": "code",
      "metadata": {
        "id": "B0Zr4oM6666b",
        "colab": {
          "base_uri": "https://localhost:8080/"
        },
        "outputId": "766c5c74-347d-4f4c-d190-51496ebbaa52"
      },
      "source": [
        "print(generate_text(main_lstm_model, start_string=u\"چنین گفت رستم به اسفندیار\"))\n",
        "main_lstm_model.save(\"char_lstm.h5\")"
      ],
      "execution_count": 12,
      "outputs": [
        {
          "output_type": "stream",
          "text": [
            "چنین گفت رستم به اسفندیار \t ز مرغی و کمند و هم چادر باغ \n",
            " یکی جام سپاهی ز کین جاپیس \t سربتر بندگان و شمشیر تو \n",
            " جهاندار و کشتن ورا نیو بود \t تنش را به کشت سزاوار نو \n",
            " تو پاکیزکارت اکنون بسته شیر \t کزیشی آر اندیشه‌هاز آز بخشت \n",
            " ز تاج جهان با تو نبایدت گرد \t بخواند مرا بنزدیک شخوب \n",
            " جز از کهبان تخم کمت‌ور نام \t همیشه سر سخت بدی برتاج \n",
            " کنون من به یک دل پر از آهنین \t نمانم هم اندر مهان گاوست \n",
            " کمان را چنین و گوانی هراس \t بگویم به تو هم ز پیوند و ستی \n",
            " همی رای گردش را بگذرد دروغ \t میان مادرش آگه اندر صطرخروا \n",
            " به رزم اندرون گیتی اندر آورد \t سپردش ز آنگها به کردار شید \n",
            " هرانگه که دارند گردان آفرین \t بران آرزوی را جهانجوی شیر جای داد \n",
            " بپوشید رویین هم از راست گاه \t همرش ستمست خروش از پاسبان \n",
            " ز خانه مر او را شهد قارن روم \t شب و روز پارس و ز تن جای آورد \n",
            " کجا رفت بیدار بدخواه و گفت \t که از من بارت پیمان یادگار \n",
            " کنون زان روی هامون بداد اوست \t که هومنش و درکش هم آورد شاه \n",
            " که دانش بردوار ایران بخواند \t پرستنده شدند آن زمان و بس اندپی تن \t که بر تخت زرین و مهر ژیان \n",
            " فرستاد خاقان چنین شد پاسخ \t بیامد به گفتار پرخاشخر \n",
            "\n",
            "WARNING:tensorflow:Compiled the loaded model, but the compiled metrics have yet to be built. `model.compile_metrics` will be empty until you train or evaluate the model.\n"
          ],
          "name": "stdout"
        }
      ]
    }
  ]
}