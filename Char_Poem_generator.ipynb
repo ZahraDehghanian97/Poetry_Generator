{
  "nbformat": 4,
  "nbformat_minor": 0,
  "metadata": {
    "colab": {
      "name": "Char_Poem_generator.ipynb",
      "provenance": [],
      "mount_file_id": "1PelofUsJ3U1xWcIYS9Ry4I0VN-7LXbGF",
      "authorship_tag": "ABX9TyPsTTov6gS3ChLXb6ZYNp/m",
      "include_colab_link": true
    },
    "kernelspec": {
      "name": "python3",
      "display_name": "Python 3"
    },
    "language_info": {
      "name": "python"
    },
    "accelerator": "GPU"
  },
  "cells": [
    {
      "cell_type": "markdown",
      "metadata": {
        "id": "view-in-github",
        "colab_type": "text"
      },
      "source": [
        "<a href=\"https://colab.research.google.com/github/zahraDehghanian97/Poetry_Generator/blob/master/Char_Poem_generator.ipynb\" target=\"_parent\"><img src=\"https://colab.research.google.com/assets/colab-badge.svg\" alt=\"Open In Colab\"/></a>"
      ]
    },
    {
      "cell_type": "code",
      "metadata": {
        "id": "nF-7m57sBgdp"
      },
      "source": [
        "import tensorflow as tf\n",
        "from tensorflow import keras\n",
        "import numpy as np\n",
        "import pickle\n",
        "from nltk.metrics import accuracy ,ConfusionMatrix \n",
        "from nltk.translate.bleu_score import sentence_bleu"
      ],
      "execution_count": 20,
      "outputs": []
    },
    {
      "cell_type": "code",
      "metadata": {
        "id": "jAMXrqzeIQn5"
      },
      "source": [
        "BATCH_SIZE = 64\n",
        "BUFFER_SIZE = 10000\n",
        "embedding_dim = 256\n",
        "rnn_units = 1024\n",
        "seq_length = 1000"
      ],
      "execution_count": 2,
      "outputs": []
    },
    {
      "cell_type": "markdown",
      "metadata": {
        "id": "wXgkMK0iMQDL"
      },
      "source": [
        "# make data ready"
      ]
    },
    {
      "cell_type": "code",
      "metadata": {
        "id": "l8wd1saxwPtu"
      },
      "source": [
        "filepath = \"/content/drive/MyDrive/Colab Notebooks/my_shahname_represntation.txt\"\n",
        "with open(filepath, \"rb\") as f:\n",
        "    corpus , test = pickle.load(f)\n",
        "corpus = corpus.replace(\"\\t\",\" \\t \").replace(\"\\n\", \" \\n \")"
      ],
      "execution_count": 3,
      "outputs": []
    },
    {
      "cell_type": "code",
      "metadata": {
        "id": "Y9JzIK9elja4",
        "colab": {
          "base_uri": "https://localhost:8080/"
        },
        "outputId": "f3d2879d-ed40-439f-ae62-cce4d8eb4536"
      },
      "source": [
        "vocab = sorted(set(corpus))\n",
        "vocab_size = len(vocab)\n",
        "print(len(vocab), \"chars\")\n",
        "char2idx = {u:i for i, u in enumerate(vocab)}\n",
        "print(char2idx)\n",
        "idx2char = np.array(vocab)"
      ],
      "execution_count": 4,
      "outputs": [
        {
          "output_type": "stream",
          "text": [
            "48 chars\n",
            "{'\\t': 0, '\\n': 1, ' ': 2, '(': 3, ')': 4, '«': 5, '»': 6, '،': 7, '؟': 8, 'ء': 9, 'آ': 10, 'أ': 11, 'ؤ': 12, 'ئ': 13, 'ا': 14, 'ب': 15, 'ت': 16, 'ث': 17, 'ج': 18, 'ح': 19, 'خ': 20, 'د': 21, 'ذ': 22, 'ر': 23, 'ز': 24, 'س': 25, 'ش': 26, 'ص': 27, 'ض': 28, 'ط': 29, 'ظ': 30, 'ع': 31, 'غ': 32, 'ف': 33, 'ق': 34, 'ل': 35, 'م': 36, 'ن': 37, 'ه': 38, 'و': 39, 'ٔ': 40, 'پ': 41, 'چ': 42, 'ژ': 43, 'ک': 44, 'گ': 45, 'ی': 46, '\\u200c': 47}\n"
          ],
          "name": "stdout"
        }
      ]
    },
    {
      "cell_type": "code",
      "metadata": {
        "id": "U22k7ShUl0xm"
      },
      "source": [
        "def split_input_target(chunk):\n",
        "    input_text = chunk[:-1]\n",
        "    target_text = chunk[1:]\n",
        "    return input_text, target_text\n",
        "\n",
        "text_as_int = np.array([char2idx[c] for c in corpus])\n",
        "char_dataset = tf.data.Dataset.from_tensor_slices(text_as_int)\n",
        "sequences = char_dataset.batch(seq_length+1, drop_remainder=True)\n",
        "dataset = sequences.map(split_input_target)\n",
        "dataset = dataset.shuffle(BUFFER_SIZE).batch(BATCH_SIZE, drop_remainder=True)"
      ],
      "execution_count": 5,
      "outputs": []
    },
    {
      "cell_type": "markdown",
      "metadata": {
        "id": "Xps-ncLV4wmQ"
      },
      "source": [
        "# LSTM Model"
      ]
    },
    {
      "cell_type": "code",
      "metadata": {
        "id": "RUs3-KqUSNpN"
      },
      "source": [
        "def create_model_lstm(vocab_size=vocab_size, embedding_dim=embedding_dim, rnn_units=rnn_units, batch_size=BATCH_SIZE):\n",
        "  model = keras.Sequential()\n",
        "  model.add(tf.keras.layers.Embedding(vocab_size, embedding_dim,batch_input_shape=[batch_size, None]))\n",
        "  model.add(tf.keras.layers.LSTM(rnn_units,return_sequences=True,stateful=True,recurrent_initializer='glorot_uniform',recurrent_regularizer=keras.regularizers.l2(0.01)))\n",
        "  model.add(tf.keras.layers.LSTM(rnn_units,return_sequences=True,stateful=True,recurrent_initializer='glorot_uniform',recurrent_regularizer=keras.regularizers.l2(0.01)))\n",
        "  model.add(tf.keras.layers.Dense(vocab_size))\n",
        "  return model"
      ],
      "execution_count": 6,
      "outputs": []
    },
    {
      "cell_type": "code",
      "metadata": {
        "id": "Jyj4BBqnSZAz",
        "colab": {
          "base_uri": "https://localhost:8080/"
        },
        "outputId": "c79a45c1-4f9f-4f6d-b055-f18657ab1ada"
      },
      "source": [
        "# lstm_model = create_model_lstm()\n",
        "# lstm_model.compile(optimizer='adam', loss=keras.losses.SparseCategoricalCrossentropy(from_logits=True), metrics=['accuracy'])\n",
        "# history = lstm_model.fit(dataset, epochs=50)\n",
        "main_lstm_model = create_model_lstm(batch_size=1)\n",
        "# main_lstm_model.set_weights(lstm_model.get_weights())\n",
        "main_lstm_model = tf.keras.models.load_model('/content/drive/MyDrive/Colab Notebooks/char_lstm.h5')\n",
        "main_lstm_model.summary()"
      ],
      "execution_count": 7,
      "outputs": [
        {
          "output_type": "stream",
          "text": [
            "WARNING:tensorflow:No training configuration found in the save file, so the model was *not* compiled. Compile it manually.\n",
            "Model: \"sequential_1\"\n",
            "_________________________________________________________________\n",
            "Layer (type)                 Output Shape              Param #   \n",
            "=================================================================\n",
            "embedding_1 (Embedding)      (1, None, 256)            12288     \n",
            "_________________________________________________________________\n",
            "lstm_2 (LSTM)                (1, None, 1024)           5246976   \n",
            "_________________________________________________________________\n",
            "lstm_3 (LSTM)                (1, None, 1024)           8392704   \n",
            "_________________________________________________________________\n",
            "dense_1 (Dense)              (1, None, 48)             49200     \n",
            "=================================================================\n",
            "Total params: 13,701,168\n",
            "Trainable params: 13,701,168\n",
            "Non-trainable params: 0\n",
            "_________________________________________________________________\n"
          ],
          "name": "stdout"
        }
      ]
    },
    {
      "cell_type": "code",
      "metadata": {
        "id": "6l1UtOJ6p4Dx"
      },
      "source": [
        "def generate_text(model, start_string):\n",
        "  num_generate = 1000\n",
        "  input_eval = [char2idx[s] for s in start_string]\n",
        "  input_eval = tf.expand_dims(input_eval, 0)\n",
        "  text_generated = []\n",
        "  model.reset_states()\n",
        "  for i in range(num_generate):\n",
        "      predictions = model(input_eval)\n",
        "      predictions = tf.squeeze(predictions, 0)\n",
        "      predicted_id = tf.random.categorical(predictions, num_samples=1)[-1,0].numpy()\n",
        "      input_eval = tf.expand_dims([predicted_id], 0)\n",
        "      text_generated.append(idx2char[predicted_id])\n",
        "  return (start_string + ''.join(text_generated))"
      ],
      "execution_count": 8,
      "outputs": []
    },
    {
      "cell_type": "code",
      "metadata": {
        "id": "B0Zr4oM6666b",
        "colab": {
          "base_uri": "https://localhost:8080/"
        },
        "outputId": "cd7beebe-8f4e-4ac8-fa14-dc01cce57bc3"
      },
      "source": [
        "print(generate_text(main_lstm_model, start_string=\"چنین گفت رستم به اسفندیار\"))\n",
        "main_lstm_model.save(\"/content/drive/MyDrive/Colab Notebooks/char_lstm.h5\")"
      ],
      "execution_count": 9,
      "outputs": [
        {
          "output_type": "stream",
          "text": [
            "چنین گفت رستم به اسفندیار \t به پیش اندرون پیل و کلاه مرد \n",
            " درختیست چینی و کوتاه مرا \t نشاید به رودی ارش روزگار \n",
            " سگیندر نهادی نداریم شکن \t سپاهی تویم روشنوای من \n",
            " همی برد سوی شهرو آنچهر \t سپه بیرون آید ز دشمن و رود \n",
            " نبرد سوی تیر دیو را نبرد \t بزرگی و چوخسرو شوید خویش \n",
            " وزین پس نشاند کز پیش خرد \t ممانم به دل بود نیرو بود \n",
            " یکی را زبانها ز بردند هر \t برفت از کاری پرخرگاه سر \n",
            " چو جهان سرشان را هست باد \t که ای نامور پر ما را ستم پند \n",
            " پیام فرزند بر تا بباغ \t دل مرد را بر بزم از خوشاب \n",
            " نشست از پلنگان او را بدیم \t ببینی ز گوهر نگذاشتیم \n",
            " وگر این زمان هر دام سوی مرد \t که این در زداران تو جستن نیست \n",
            " ز پیوند یکی تاج با چیز و فر \t چو باشی مرا نایزدش دست \n",
            " ولیکن شهره ترساندی بدید \t به فتراک بر شطرنج آورد \n",
            " ز رها دل این سخن راندمست \t بدین کار پیش گیو منشو شود \n",
            " بریشان او دینار و جوش وبوم \t بگرم اندر آرند نیز پدرود \n",
            " ز مرغان سوی را خرام ناسزا \t که دارد دل نبردارد گر راست \n",
            " تو اندر زمان لشکر بیرونیست \t جز وخواند آید یکسر به سرم \n",
            " چو بی‌دود بر پنج خویش را \t سخن رفت هیون زودست بسوز \n",
            " گزین کز هر پای چه فرود پیش \t ز بخشد بکا\n",
            "WARNING:tensorflow:Compiled the loaded model, but the compiled metrics have yet to be built. `model.compile_metrics` will be empty until you train or evaluate the model.\n"
          ],
          "name": "stdout"
        }
      ]
    },
    {
      "cell_type": "markdown",
      "metadata": {
        "id": "oG9bckSb7ESO"
      },
      "source": [
        "# Test"
      ]
    },
    {
      "cell_type": "code",
      "metadata": {
        "colab": {
          "base_uri": "https://localhost:8080/"
        },
        "id": "sMPDnUA87GfX",
        "outputId": "1d52262f-5c4d-4962-e85e-2d0996ed1ed0"
      },
      "source": [
        "BLEU_scores = []\n",
        "accuracy_scores = []\n",
        "poem = test[0]\n",
        "start = poem[:25]\n",
        "generated_poem = generate_text(main_lstm_model, start_string=start)\n",
        "BLEU_scores.append(sentence_bleu(poem, generated_poem))\n",
        "len_min = min(len(poem),len(generated_poem))\n",
        "accuracy_scores.append(accuracy(poem[:len_min], generated_poem[:len_min]))\n",
        "print(\"-----------------------\")\n",
        "print(\"start sentence : \",start)\n",
        "print(generated_poem)\n",
        "print(\"BLEU score = \",BLEU_scores[-1])\n",
        "print(\"Accuracy score = \",accuracy_scores[-1])\n",
        "print(\"Confusion matrix =\")\n",
        "print(ConfusionMatrix(poem[:len_min], generated_poem[:len_min]))\n",
        "\n",
        "counter = 0\n",
        "for poem in test :\n",
        "  counter+=1\n",
        "  start = poem[:25]\n",
        "  generated_poem = generate_text(main_lstm_model, start_string=start)\n",
        "  BLEU_scores.append(sentence_bleu(poem, generated_poem))\n",
        "  len_min = min(len(poem),len(generated_poem))\n",
        "  accuracy_scores.append(accuracy(poem[:len_min], generated_poem[:len_min]))\n",
        "  print(\"-----------------------\")\n",
        "  print(\"sentence number : \",counter)\n",
        "  print(\"BLEU score = \",BLEU_scores[-1])\n",
        "  print(\"Accuracy score = \",accuracy_scores[-1])\n",
        "\n",
        "print(\"<<------------final report----------->>\")\n",
        "print(\"number of test set = \",len(test))\n",
        "print(\"mean BLEU score = \",np.mean(BLEU_scores))\n",
        "print(\"mean Accuracy score = \",np.mean(accuracy_scores))"
      ],
      "execution_count": 22,
      "outputs": [
        {
          "output_type": "stream",
          "text": [
            "/usr/local/lib/python3.7/dist-packages/nltk/translate/bleu_score.py:490: UserWarning: \n",
            "Corpus/Sentence contains 0 counts of 2-gram overlaps.\n",
            "BLEU scores might be undesirable; use SmoothingFunction().\n",
            "  warnings.warn(_msg)\n"
          ],
          "name": "stderr"
        },
        {
          "output_type": "stream",
          "text": [
            "-----------------------\n",
            "start sentence :  چو لشکر شد از خواسته بی‌ن\n",
            "چو لشکر شد از خواسته بی‌نما \n",
            " بپذرفت و پرمور جایگاه \n",
            " تو با آب و ایرانیان سخن \t همه روی شادمان و نهادن \n",
            " به هنرسوی یال افراسیاب \t که چهارم از پیش آواز نیز \n",
            " مرا گفت کان جنگ رستمست \n",
            " چو در جنگ پادشاهی خاست \t از تخم گیرد کشیدن سخن \n",
            " تو بر نه سیری نیار مردان \t که نام گرایی و فرهنگ و ناز \n",
            " نشست از بر خواسته فرمان \t که بیند کز کاری ویلان مها \n",
            " گر از تو روان آژی تیره‌روان \t ترا با فرهانیده راز خوان \n",
            " کلاه وسی پسند برارگاه \t بغرفت ما رامش گرز هروان \n",
            " نهادند زو کین سالار یو \t ز لشکر ز کردار قیصر برافروختند \n",
            " وزان پس برز و عنبر زین \t ز رامشگران چو درفش سیاه \n",
            " فروماند بر شهریار جهان \t بزرگی درنده زان کار خویش \n",
            " به شاهی که از تخت لعلت مهر \t و گرزن تر منستا خورشید \n",
            " اگر تابوتانگان خود نگاه \t بخم کمرهٔ خویش را بکشت \n",
            " چو گشتی برآمد دوان روی کار \t بسی روز خاک ترا زین برکند \n",
            " چه گویم همی دارم بدان زدان \t نماند به گیتی ز کار رساد \n",
            " به دلت گردش از رسم آزمک \t یکی چرب تیر فرمودش نژاد \n",
            " بزرگان و جانم بتاجاست کوت \t به میدان گر با اختر خوارخسته \n",
            " گر آنکس که دور بد جنگ ورا \t بافگند برزد بر دری خورد \n",
            " چه پاسخ چنین گفت کای شهریار \t نبی\n",
            "BLEU score =  0.4235917749235957\n",
            "Accuracy score =  0.0975609756097561\n",
            "Confusion matrix =\n",
            "  |  \t  \n",
            "     آ  ا  ب  ت  ج  ح  خ  د  ذ  ر  ز  س  ش  ص  ع  غ  ف  ق  ل  م  ن  ه  و  ٔ  پ  چ  ژ  ک  گ  ی  ‌ |\n",
            "--+-------------------------------------------------------------------------------------------------------+\n",
            "\t | <.> 1  3  .  1  2  2  .  .  .  .  .  2  .  .  1  .  .  .  .  1  .  2  2  1  1  .  .  .  .  .  1  .  . |\n",
            "\n",
            " |  . <.> 4  .  2  1  .  .  .  .  1  .  2  1  1  .  .  .  .  1  .  1  .  1  2  1  .  .  .  .  .  .  2  . |\n",
            "  |  4  5<42> 2 13  5  7  .  .  4  7  1 25  6  2  3  .  1  1  1  .  .  5  9  3  7  .  3  2  2  7  5 10  . |\n",
            "آ |  .  .  2 <1> 2  .  .  .  .  .  .  .  .  1  .  .  .  .  .  .  .  .  .  .  .  .  .  .  .  .  1  .  2  . |\n",
            "ا |  2  1 21  2<12> 3  2  1  .  2  5  . 11  5  3  1  .  .  .  2  .  1  .  3  7  3  .  1  1  .  3  2  4  . |\n",
            "ب |  .  3 15  .  7 <4> 2  .  .  1  1  .  4  3  .  .  .  .  .  1  .  .  1  1  .  1  .  .  1  .  1  .  2  . |\n",
            "ت |  1  .  6  .  1  1 <1> .  .  .  2  .  4  .  2  .  .  .  .  .  .  .  1  1  2  .  .  .  .  .  1  1  3  . |\n",
            "ج |  .  .  3  .  2  .  . <.> .  .  .  .  1  1  .  1  .  .  .  1  .  .  .  .  .  .  .  .  .  .  .  1  1  . |\n",
            "ح |  .  .  .  .  .  .  .  . <.> .  .  .  1  .  .  .  .  .  .  .  .  .  .  .  1  .  .  .  .  .  1  .  .  . |\n",
            "خ |  1  .  5  .  3  .  .  .  . <2> .  .  1  .  .  .  .  .  .  .  .  .  1  1  .  3  .  .  .  .  .  .  2  . |\n",
            "د |  .  . 12  .  8  3  3  .  .  . <4> .  9  .  1  2  1  .  .  2  .  .  2  6  3  4  .  .  .  .  2  1  4  . |\n",
            "ذ |  .  .  2  .  .  .  .  .  .  .  . <.> .  .  .  .  .  .  .  .  .  .  .  .  .  .  .  .  .  .  .  .  .  . |\n",
            "ر |  .  2 17  .  7  1  3  1  .  2  2  . <6> 1  4  5  .  .  .  2  .  .  2  6  3  2  .  .  1  .  3  1  1  1 |\n",
            "ز |  .  .  9  1  1  .  .  .  .  .  2  .  1 <2> .  .  .  .  .  .  .  .  2  4  1  1  .  .  .  .  .  .  1  . |\n",
            "س |  1  1  6  .  1  3  .  1  .  1  4  .  3  . <2> 1  .  1  .  .  .  1  1  1  .  .  .  .  .  .  .  1  1  . |\n",
            "ش |  .  .  5  .  2  2  1  .  .  .  .  .  1  1  . <2> .  .  .  1  .  1  1  1  1  4  .  .  1  .  .  .  2  . |\n",
            "ص |  .  .  1  .  1  .  .  1  .  .  1  .  .  .  .  . <.> .  .  .  .  .  .  .  .  .  .  .  .  .  .  .  .  . |\n",
            "ع |  .  .  .  .  .  .  .  .  .  .  .  .  .  .  .  .  . <.> .  .  .  .  .  .  .  .  .  .  1  .  .  .  .  . |\n",
            "غ |  .  .  .  .  1  .  .  .  .  .  .  .  .  .  .  .  .  . <.> .  .  .  .  .  .  .  .  .  .  .  .  .  .  . |\n",
            "ف |  .  .  3  .  1  .  .  .  .  1  .  .  1  .  .  .  .  .  . <.> .  .  .  1  .  .  .  .  .  .  .  .  1  . |\n",
            "ق |  .  .  1  .  .  .  .  .  .  .  .  .  .  .  .  .  .  .  .  . <.> .  .  1  .  .  .  .  .  .  .  1  .  . |\n",
            "ل |  .  .  4  .  .  .  .  .  .  .  .  .  .  1  .  .  .  .  .  .  . <1> .  .  .  .  .  .  .  .  .  .  .  . |\n",
            "م |  2  1  6  .  4  .  2  .  .  2  1  .  .  1  1  3  .  .  .  .  .  . <1> 3  1  5  .  .  .  .  .  .  2  . |\n",
            "ن |  2  . 18  .  4  3  3  .  .  2  1  .  4  2  2  .  .  .  .  .  .  .  2 <4> 2  7  1  .  .  .  .  1  2  . |\n",
            "ه |  3  1 15  .  6  4  .  .  .  2  1  .  2  2  1  1  .  .  .  .  .  1  1  4 <4> 2  .  1  .  .  2  3  1  . |\n",
            "و |  1  1 14  .  6  2  1  .  .  1  4  .  6  .  2  .  .  .  .  1  .  2  1  5  3 <6> .  1  .  .  1  2  5  . |\n",
            "ٔ |  .  .  1  .  .  .  1  .  .  .  .  .  .  .  .  .  .  .  .  .  .  .  .  1  .  . <.> .  .  .  .  .  .  . |\n",
            "پ |  .  .  3  .  4  .  1  .  .  .  1  .  .  .  .  .  .  .  .  .  .  .  .  1  2  .  . <.> .  .  .  .  2  . |\n",
            "چ |  .  .  1  .  .  .  .  .  .  .  .  .  1  .  .  .  .  .  .  .  .  .  .  1  .  .  .  . <1> .  .  1  .  . |\n",
            "ژ |  .  .  1  .  .  .  .  .  .  .  .  .  .  .  .  .  .  .  .  .  .  .  .  .  .  .  .  .  . <.> .  .  .  . |\n",
            "ک |  .  2  6  .  1  .  1  .  .  .  1  .  .  1  .  .  .  .  .  .  .  .  3  4  3  .  .  .  .  . <1> 1  1  . |\n",
            "گ |  .  .  2  .  1  1  1  1  .  .  .  .  .  1  1  .  .  .  .  .  .  .  1  3  .  .  .  .  .  .  . <.> 1  . |\n",
            "ی |  1  2 15  .  7  2  3  1  .  .  2  .  3  1  2  1  .  .  .  1  .  1  3  .  3  .  .  1  1  .  1  4 <3> . |\n",
            "‌ |  .  .  1  .  .  .  1  1  .  .  .  .  .  .  .  .  .  .  .  .  .  .  .  .  .  .  .  .  .  .  2  .  . <1>|\n",
            "--+-------------------------------------------------------------------------------------------------------+\n",
            "(row = reference; col = test)\n",
            "\n",
            "-----------------------\n",
            "sentence number :  1\n",
            "BLEU score =  0.41361792097739225\n",
            "Accuracy score =  0.1151219512195122\n",
            "-----------------------\n",
            "sentence number :  2\n",
            "BLEU score =  0.4028654046206224\n",
            "Accuracy score =  0.125\n",
            "-----------------------\n",
            "sentence number :  3\n",
            "BLEU score =  0.41012716230952695\n",
            "Accuracy score =  0.12292682926829268\n",
            "-----------------------\n",
            "sentence number :  4\n",
            "BLEU score =  0.41012716230952695\n",
            "Accuracy score =  0.12390243902439024\n",
            "-----------------------\n",
            "sentence number :  5\n",
            "BLEU score =  0.4170224708220127\n",
            "Accuracy score =  0.11707317073170732\n",
            "-----------------------\n",
            "sentence number :  6\n",
            "BLEU score =  0.41361792097739225\n",
            "Accuracy score =  0.11121951219512195\n",
            "-----------------------\n",
            "sentence number :  7\n",
            "BLEU score =  0.4203456217444812\n",
            "Accuracy score =  0.08878048780487804\n",
            "-----------------------\n",
            "sentence number :  8\n",
            "BLEU score =  0.41012716230952695\n",
            "Accuracy score =  0.10536585365853658\n",
            "-----------------------\n",
            "sentence number :  9\n",
            "BLEU score =  0.41361792097739225\n",
            "Accuracy score =  0.09463414634146342\n",
            "-----------------------\n",
            "sentence number :  10\n",
            "BLEU score =  0.40654492262020375\n",
            "Accuracy score =  0.11121951219512195\n",
            "-----------------------\n",
            "sentence number :  11\n",
            "BLEU score =  0.4170224708220127\n",
            "Accuracy score =  0.11609756097560976\n",
            "-----------------------\n",
            "sentence number :  12\n",
            "BLEU score =  0.4028654046206224\n",
            "Accuracy score =  0.12760416666666666\n",
            "-----------------------\n",
            "sentence number :  13\n",
            "BLEU score =  0.4203456217444812\n",
            "Accuracy score =  0.1073170731707317\n",
            "-----------------------\n",
            "sentence number :  14\n",
            "BLEU score =  0.41012716230952695\n",
            "Accuracy score =  0.10439024390243902\n",
            "-----------------------\n",
            "sentence number :  15\n",
            "BLEU score =  0.4235917749235957\n",
            "Accuracy score =  0.0975609756097561\n",
            "-----------------------\n",
            "sentence number :  16\n",
            "BLEU score =  0.41012716230952695\n",
            "Accuracy score =  0.09658536585365854\n",
            "-----------------------\n",
            "sentence number :  17\n",
            "BLEU score =  0.4170224708220127\n",
            "Accuracy score =  0.10341463414634146\n",
            "-----------------------\n",
            "sentence number :  18\n",
            "BLEU score =  0.4028654046206224\n",
            "Accuracy score =  0.09853658536585366\n",
            "-----------------------\n",
            "sentence number :  19\n",
            "BLEU score =  0.3990822119266143\n",
            "Accuracy score =  0.10060975609756098\n",
            "-----------------------\n",
            "sentence number :  20\n",
            "BLEU score =  0.4170224708220127\n",
            "Accuracy score =  0.11902439024390243\n",
            "-----------------------\n",
            "sentence number :  21\n",
            "BLEU score =  0.4028654046206224\n",
            "Accuracy score =  0.11214953271028037\n",
            "-----------------------\n",
            "sentence number :  22\n",
            "BLEU score =  0.41012716230952695\n",
            "Accuracy score =  0.10048780487804879\n",
            "-----------------------\n",
            "sentence number :  23\n",
            "BLEU score =  0.41012716230952695\n",
            "Accuracy score =  0.09951219512195122\n",
            "-----------------------\n",
            "sentence number :  24\n",
            "BLEU score =  0.3990822119266143\n",
            "Accuracy score =  0.10918544194107452\n",
            "-----------------------\n",
            "sentence number :  25\n",
            "BLEU score =  0.41012716230952695\n",
            "Accuracy score =  0.10634146341463414\n",
            "-----------------------\n",
            "sentence number :  26\n",
            "BLEU score =  0.4170224708220127\n",
            "Accuracy score =  0.1024390243902439\n",
            "-----------------------\n",
            "sentence number :  27\n",
            "BLEU score =  0.4170224708220127\n",
            "Accuracy score =  0.11707317073170732\n",
            "-----------------------\n",
            "sentence number :  28\n",
            "BLEU score =  0.40654492262020375\n",
            "Accuracy score =  0.1024390243902439\n",
            "-----------------------\n",
            "sentence number :  29\n",
            "BLEU score =  0.3990822119266143\n",
            "Accuracy score =  0.14532019704433496\n",
            "-----------------------\n",
            "sentence number :  30\n",
            "BLEU score =  0.41361792097739225\n",
            "Accuracy score =  0.09853658536585366\n",
            "-----------------------\n",
            "sentence number :  31\n",
            "BLEU score =  0.41361792097739225\n",
            "Accuracy score =  0.09560975609756098\n",
            "-----------------------\n",
            "sentence number :  32\n",
            "BLEU score =  0.41361792097739225\n",
            "Accuracy score =  0.10634146341463414\n",
            "-----------------------\n",
            "sentence number :  33\n",
            "BLEU score =  0.40654492262020375\n",
            "Accuracy score =  0.11121951219512195\n",
            "-----------------------\n",
            "sentence number :  34\n",
            "BLEU score =  0.40654492262020375\n",
            "Accuracy score =  0.10926829268292683\n",
            "-----------------------\n",
            "sentence number :  35\n",
            "BLEU score =  0.4028654046206224\n",
            "Accuracy score =  0.10926829268292683\n",
            "-----------------------\n",
            "sentence number :  36\n",
            "BLEU score =  0.40654492262020375\n",
            "Accuracy score =  0.107095046854083\n",
            "-----------------------\n",
            "sentence number :  37\n",
            "BLEU score =  0.41361792097739225\n",
            "Accuracy score =  0.09463414634146342\n",
            "-----------------------\n",
            "sentence number :  38\n",
            "BLEU score =  0.40654492262020375\n",
            "Accuracy score =  0.10146341463414635\n",
            "-----------------------\n",
            "sentence number :  39\n",
            "BLEU score =  0.41012716230952695\n",
            "Accuracy score =  0.11024390243902439\n",
            "-----------------------\n",
            "sentence number :  40\n",
            "BLEU score =  0.4203456217444812\n",
            "Accuracy score =  0.10829268292682927\n",
            "-----------------------\n",
            "sentence number :  41\n",
            "BLEU score =  0.40654492262020375\n",
            "Accuracy score =  0.11024390243902439\n",
            "-----------------------\n",
            "sentence number :  42\n",
            "BLEU score =  0.3951882613244048\n",
            "Accuracy score =  0.11067961165048544\n",
            "-----------------------\n",
            "sentence number :  43\n",
            "BLEU score =  0.40654492262020375\n",
            "Accuracy score =  0.1073170731707317\n",
            "-----------------------\n",
            "sentence number :  44\n",
            "BLEU score =  0.41012716230952695\n",
            "Accuracy score =  0.10341463414634146\n",
            "-----------------------\n",
            "sentence number :  45\n",
            "BLEU score =  0.40654492262020375\n",
            "Accuracy score =  0.10048780487804879\n",
            "-----------------------\n",
            "sentence number :  46\n",
            "BLEU score =  0.40654492262020375\n",
            "Accuracy score =  0.09560975609756098\n",
            "-----------------------\n",
            "sentence number :  47\n",
            "BLEU score =  0.40654492262020375\n",
            "Accuracy score =  0.1151219512195122\n",
            "-----------------------\n",
            "sentence number :  48\n",
            "BLEU score =  0.4170224708220127\n",
            "Accuracy score =  0.09853658536585366\n",
            "-----------------------\n",
            "sentence number :  49\n",
            "BLEU score =  0.40654492262020375\n",
            "Accuracy score =  0.1073170731707317\n",
            "-----------------------\n",
            "sentence number :  50\n",
            "BLEU score =  0.41012716230952695\n",
            "Accuracy score =  0.11707317073170732\n",
            "-----------------------\n",
            "sentence number :  51\n",
            "BLEU score =  0.41012716230952695\n",
            "Accuracy score =  0.1151219512195122\n",
            "-----------------------\n",
            "sentence number :  52\n",
            "BLEU score =  0.41012716230952695\n",
            "Accuracy score =  0.10926829268292683\n",
            "-----------------------\n",
            "sentence number :  53\n",
            "BLEU score =  0.3990822119266143\n",
            "Accuracy score =  0.11707317073170732\n",
            "-----------------------\n",
            "sentence number :  54\n",
            "BLEU score =  0.4203456217444812\n",
            "Accuracy score =  0.10341463414634146\n",
            "-----------------------\n",
            "sentence number :  55\n",
            "BLEU score =  0.4170224708220127\n",
            "Accuracy score =  0.10926829268292683\n",
            "-----------------------\n",
            "sentence number :  56\n",
            "BLEU score =  0.40654492262020375\n",
            "Accuracy score =  0.10341463414634146\n",
            "-----------------------\n",
            "sentence number :  57\n",
            "BLEU score =  0.41361792097739225\n",
            "Accuracy score =  0.1073170731707317\n",
            "-----------------------\n",
            "sentence number :  58\n",
            "BLEU score =  0.3951882613244048\n",
            "Accuracy score =  0.08878048780487804\n",
            "-----------------------\n",
            "sentence number :  59\n",
            "BLEU score =  0.4028654046206224\n",
            "Accuracy score =  0.09951219512195122\n",
            "-----------------------\n",
            "sentence number :  60\n",
            "BLEU score =  0.40654492262020375\n",
            "Accuracy score =  0.11024390243902439\n",
            "-----------------------\n",
            "sentence number :  61\n",
            "BLEU score =  0.3990822119266143\n",
            "Accuracy score =  0.10852713178294573\n",
            "-----------------------\n",
            "sentence number :  62\n",
            "BLEU score =  0.40654492262020375\n",
            "Accuracy score =  0.10146341463414635\n",
            "<<------------final report----------->>\n",
            "number of test set =  62\n",
            "mean BLEU score =  0.4096269227071884\n",
            "mean Accuracy score =  0.10746148132971146\n"
          ],
          "name": "stdout"
        }
      ]
    }
  ]
}