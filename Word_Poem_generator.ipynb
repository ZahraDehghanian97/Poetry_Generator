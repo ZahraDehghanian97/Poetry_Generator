{
  "nbformat": 4,
  "nbformat_minor": 0,
  "metadata": {
    "colab": {
      "name": "Word_Poem_generator.ipynb",
      "provenance": [],
      "mount_file_id": "16VJ0cJ1eg6evK69JcTF0Pglwr6Kx0pNu",
      "authorship_tag": "ABX9TyMbvlvQiVcJzTD2PRCyf/mx",
      "include_colab_link": true
    },
    "kernelspec": {
      "name": "python3",
      "display_name": "Python 3"
    },
    "language_info": {
      "name": "python"
    },
    "accelerator": "GPU"
  },
  "cells": [
    {
      "cell_type": "markdown",
      "metadata": {
        "id": "view-in-github",
        "colab_type": "text"
      },
      "source": [
        "<a href=\"https://colab.research.google.com/github/zahraDehghanian97/Poetry_Generator/blob/master/Word_Poem_generator.ipynb\" target=\"_parent\"><img src=\"https://colab.research.google.com/assets/colab-badge.svg\" alt=\"Open In Colab\"/></a>"
      ]
    },
    {
      "cell_type": "code",
      "metadata": {
        "id": "nF-7m57sBgdp"
      },
      "source": [
        "import tensorflow as tf\n",
        "from tensorflow import keras\n",
        "import numpy as np\n"
      ],
      "execution_count": 1,
      "outputs": []
    },
    {
      "cell_type": "code",
      "metadata": {
        "id": "erM3Mb3nuFAR"
      },
      "source": [
        "seqLength = 20\n",
        "BATCH_SIZE = 64\n",
        "BUFFER_SIZE = 100\n",
        "embedding_dim = 256\n",
        "rnn_units = 1024"
      ],
      "execution_count": 2,
      "outputs": []
    },
    {
      "cell_type": "markdown",
      "metadata": {
        "id": "pxSaPGaqHfMV"
      },
      "source": [
        "# make data ready"
      ]
    },
    {
      "cell_type": "code",
      "metadata": {
        "id": "NNCS1WcxmTMB"
      },
      "source": [
        "filepath = \"/content/drive/MyDrive/Colab Notebooks/shahname.txt\"\n",
        "text = open(filepath, 'rb').read().decode(encoding='utf-8')\n",
        "text = text.replace(\"\\t\",\" \\t \").replace(\"\\n\", \" \\n \")\n"
      ],
      "execution_count": 3,
      "outputs": []
    },
    {
      "cell_type": "code",
      "metadata": {
        "id": "f11TwQxzmVBv",
        "colab": {
          "base_uri": "https://localhost:8080/"
        },
        "outputId": "97772bb4-22dc-41e6-f1cd-6b73a102d128"
      },
      "source": [
        "corpusList = [w for w in text.split(' ')] \n",
        "corpus_words = [i for i in corpusList if i]\n",
        "map(str.strip, corpus_words)\n",
        "vocab = sorted(set(corpus_words))\n",
        "print(len(corpus_words))\n",
        "vocab_size = len(vocab)\n",
        "word2idx = {u: i for i, u in enumerate(vocab)}\n",
        "idx2words = np.array(vocab)\n",
        "word_as_int = np.array([word2idx[c] for c in corpus_words])"
      ],
      "execution_count": 4,
      "outputs": [
        {
          "output_type": "stream",
          "text": [
            "661330\n"
          ],
          "name": "stdout"
        }
      ]
    },
    {
      "cell_type": "code",
      "metadata": {
        "id": "LBLvTwoNhep0"
      },
      "source": [
        "def split_input_target(chunk):\n",
        "  input_text = chunk[:-1]\n",
        "  target_text = chunk[1:]\n",
        "  return input_text, target_text\n",
        "\n",
        "# examples_per_epoch = len(corpus_words)//(seqLength + 1)\n",
        "wordDataset = tf.data.Dataset.from_tensor_slices(word_as_int)\n",
        "sequencesOfWords = wordDataset.batch(seqLength + 1, drop_remainder=True)\n",
        "dataset = sequencesOfWords.map(split_input_target)\n",
        "dataset = dataset.shuffle(BUFFER_SIZE).batch(BATCH_SIZE, drop_remainder=True)"
      ],
      "execution_count": 5,
      "outputs": []
    },
    {
      "cell_type": "markdown",
      "metadata": {
        "id": "OLOB0rSQHbe7"
      },
      "source": [
        "# LSTM Model"
      ]
    },
    {
      "cell_type": "code",
      "metadata": {
        "id": "47qIyVAcHdak"
      },
      "source": [
        "def create_model_lstm(vocab_size, embedding_dim, rnn_units, batch_size):\n",
        "  model = tf.keras.Sequential()\n",
        "  model.add(tf.keras.layers.Embedding(vocab_size, embedding_dim,batch_input_shape=[batch_size, None]))\n",
        "  model.add(tf.keras.layers.LSTM(rnn_units,return_sequences=True,stateful=True,recurrent_initializer='glorot_uniform'))\n",
        "  model.add(tf.keras.layers.LSTM(rnn_units,return_sequences=True,stateful=True,recurrent_initializer='glorot_uniform'))\n",
        "  model.add(tf.keras.layers.Dense(vocab_size))\n",
        "  return model"
      ],
      "execution_count": 6,
      "outputs": []
    },
    {
      "cell_type": "code",
      "metadata": {
        "id": "73V4sMfZLT1n",
        "colab": {
          "base_uri": "https://localhost:8080/"
        },
        "outputId": "e8892663-cef1-4248-c6d7-df3f64479717"
      },
      "source": [
        "lstm_model = create_model_lstm(vocab_size = len(vocab), embedding_dim=embedding_dim, rnn_units=rnn_units, batch_size=BATCH_SIZE)\n",
        "lstm_model.compile(optimizer='adam', loss=keras.losses.SparseCategoricalCrossentropy(from_logits=True), metrics=['accuracy'])\n",
        "history = lstm_model.fit(dataset, epochs=50)\n",
        "main_lstm_model = create_model_lstm(vocab_size = len(vocab), embedding_dim=embedding_dim, rnn_units=rnn_units, batch_size=1)\n",
        "main_lstm_model.set_weights(lstm_model.get_weights())\n",
        "# main_lstm_model = tf.keras.models.load_model('/content/drive/MyDrive/Colab Notebooks/word_lstm.h5')\n",
        "main_lstm_model.summary()"
      ],
      "execution_count": 7,
      "outputs": [
        {
          "output_type": "stream",
          "text": [
            "Epoch 1/50\n",
            "492/492 [==============================] - 71s 127ms/step - loss: 7.0382 - accuracy: 0.0740\n",
            "Epoch 2/50\n",
            "492/492 [==============================] - 64s 129ms/step - loss: 6.9005 - accuracy: 0.0744\n",
            "Epoch 3/50\n",
            "492/492 [==============================] - 64s 130ms/step - loss: 6.7166 - accuracy: 0.0746\n",
            "Epoch 4/50\n",
            "492/492 [==============================] - 66s 133ms/step - loss: 5.9461 - accuracy: 0.1216\n",
            "Epoch 5/50\n",
            "492/492 [==============================] - 66s 134ms/step - loss: 5.2907 - accuracy: 0.1891\n",
            "Epoch 6/50\n",
            "492/492 [==============================] - 67s 137ms/step - loss: 4.9914 - accuracy: 0.2218\n",
            "Epoch 7/50\n",
            "492/492 [==============================] - 67s 137ms/step - loss: 4.8003 - accuracy: 0.2335\n",
            "Epoch 8/50\n",
            "492/492 [==============================] - 67s 136ms/step - loss: 4.6382 - accuracy: 0.2435\n",
            "Epoch 9/50\n",
            "492/492 [==============================] - 67s 136ms/step - loss: 4.4908 - accuracy: 0.2521\n",
            "Epoch 10/50\n",
            "492/492 [==============================] - 67s 136ms/step - loss: 4.3543 - accuracy: 0.2604\n",
            "Epoch 11/50\n",
            "492/492 [==============================] - 66s 135ms/step - loss: 4.2270 - accuracy: 0.2685\n",
            "Epoch 12/50\n",
            "492/492 [==============================] - 67s 136ms/step - loss: 4.1001 - accuracy: 0.2771\n",
            "Epoch 13/50\n",
            "492/492 [==============================] - 67s 137ms/step - loss: 3.9811 - accuracy: 0.2865\n",
            "Epoch 14/50\n",
            "492/492 [==============================] - 67s 136ms/step - loss: 3.8682 - accuracy: 0.2967\n",
            "Epoch 15/50\n",
            "492/492 [==============================] - 67s 136ms/step - loss: 3.7611 - accuracy: 0.3076\n",
            "Epoch 16/50\n",
            "492/492 [==============================] - 67s 136ms/step - loss: 3.6639 - accuracy: 0.3181\n",
            "Epoch 17/50\n",
            "492/492 [==============================] - 66s 135ms/step - loss: 3.5699 - accuracy: 0.3285\n",
            "Epoch 18/50\n",
            "492/492 [==============================] - 66s 135ms/step - loss: 3.4862 - accuracy: 0.3379\n",
            "Epoch 19/50\n",
            "492/492 [==============================] - 66s 135ms/step - loss: 3.4033 - accuracy: 0.3480\n",
            "Epoch 20/50\n",
            "492/492 [==============================] - 66s 133ms/step - loss: 3.3215 - accuracy: 0.3579\n",
            "Epoch 21/50\n",
            "492/492 [==============================] - 65s 133ms/step - loss: 3.2475 - accuracy: 0.3682\n",
            "Epoch 22/50\n",
            "492/492 [==============================] - 65s 133ms/step - loss: 3.1755 - accuracy: 0.3774\n",
            "Epoch 23/50\n",
            "492/492 [==============================] - 66s 134ms/step - loss: 3.1081 - accuracy: 0.3874\n",
            "Epoch 24/50\n",
            "492/492 [==============================] - 66s 133ms/step - loss: 3.0444 - accuracy: 0.3971\n",
            "Epoch 25/50\n",
            "492/492 [==============================] - 66s 134ms/step - loss: 2.9807 - accuracy: 0.4068\n",
            "Epoch 26/50\n",
            "492/492 [==============================] - 67s 136ms/step - loss: 2.9237 - accuracy: 0.4157\n",
            "Epoch 27/50\n",
            "492/492 [==============================] - 67s 135ms/step - loss: 2.8643 - accuracy: 0.4255\n",
            "Epoch 28/50\n",
            "492/492 [==============================] - 67s 135ms/step - loss: 2.8080 - accuracy: 0.4346\n",
            "Epoch 29/50\n",
            "492/492 [==============================] - 66s 135ms/step - loss: 2.7520 - accuracy: 0.4438\n",
            "Epoch 30/50\n",
            "492/492 [==============================] - 66s 135ms/step - loss: 2.6984 - accuracy: 0.4524\n",
            "Epoch 31/50\n",
            "492/492 [==============================] - 65s 133ms/step - loss: 2.6482 - accuracy: 0.4616\n",
            "Epoch 32/50\n",
            "492/492 [==============================] - 66s 134ms/step - loss: 2.5980 - accuracy: 0.4700\n",
            "Epoch 33/50\n",
            "492/492 [==============================] - 65s 132ms/step - loss: 2.5487 - accuracy: 0.4786\n",
            "Epoch 34/50\n",
            "492/492 [==============================] - 65s 132ms/step - loss: 2.5013 - accuracy: 0.4871\n",
            "Epoch 35/50\n",
            "492/492 [==============================] - 65s 133ms/step - loss: 2.4527 - accuracy: 0.4961\n",
            "Epoch 36/50\n",
            "492/492 [==============================] - 65s 132ms/step - loss: 2.4040 - accuracy: 0.5052\n",
            "Epoch 37/50\n",
            "492/492 [==============================] - 65s 133ms/step - loss: 2.3581 - accuracy: 0.5139\n",
            "Epoch 38/50\n",
            "492/492 [==============================] - 65s 132ms/step - loss: 2.3168 - accuracy: 0.5213\n",
            "Epoch 39/50\n",
            "492/492 [==============================] - 65s 133ms/step - loss: 2.2705 - accuracy: 0.5309\n",
            "Epoch 40/50\n",
            "492/492 [==============================] - 65s 132ms/step - loss: 2.2262 - accuracy: 0.5396\n",
            "Epoch 41/50\n",
            "492/492 [==============================] - 65s 132ms/step - loss: 2.1783 - accuracy: 0.5492\n",
            "Epoch 42/50\n",
            "492/492 [==============================] - 65s 133ms/step - loss: 2.1355 - accuracy: 0.5581\n",
            "Epoch 43/50\n",
            "492/492 [==============================] - 65s 132ms/step - loss: 2.0934 - accuracy: 0.5663\n",
            "Epoch 44/50\n",
            "492/492 [==============================] - 65s 133ms/step - loss: 2.0537 - accuracy: 0.5745\n",
            "Epoch 45/50\n",
            "492/492 [==============================] - 65s 132ms/step - loss: 2.0134 - accuracy: 0.5831\n",
            "Epoch 46/50\n",
            "492/492 [==============================] - 65s 132ms/step - loss: 1.9731 - accuracy: 0.5915\n",
            "Epoch 47/50\n",
            "492/492 [==============================] - 66s 133ms/step - loss: 1.9358 - accuracy: 0.5998\n",
            "Epoch 48/50\n",
            "492/492 [==============================] - 65s 132ms/step - loss: 1.9008 - accuracy: 0.6069\n",
            "Epoch 49/50\n",
            "492/492 [==============================] - 66s 133ms/step - loss: 1.8656 - accuracy: 0.6150\n",
            "Epoch 50/50\n",
            "492/492 [==============================] - 65s 133ms/step - loss: 1.8339 - accuracy: 0.6215\n",
            "Model: \"sequential_1\"\n",
            "_________________________________________________________________\n",
            "Layer (type)                 Output Shape              Param #   \n",
            "=================================================================\n",
            "embedding_1 (Embedding)      (1, None, 256)            5063680   \n",
            "_________________________________________________________________\n",
            "lstm_2 (LSTM)                (1, None, 1024)           5246976   \n",
            "_________________________________________________________________\n",
            "lstm_3 (LSTM)                (1, None, 1024)           8392704   \n",
            "_________________________________________________________________\n",
            "dense_1 (Dense)              (1, None, 19780)          20274500  \n",
            "=================================================================\n",
            "Total params: 38,977,860\n",
            "Trainable params: 38,977,860\n",
            "Non-trainable params: 0\n",
            "_________________________________________________________________\n"
          ],
          "name": "stdout"
        }
      ]
    },
    {
      "cell_type": "code",
      "metadata": {
        "id": "KL4gEU440DyQ"
      },
      "source": [
        "def generate_text(model, start_string, temperature = 0.6):\n",
        "  num_generate = 200\n",
        "  start_string_list =  [w for w in start_string.split(' ')]\n",
        "  input_eval = [word2idx[s] for s in start_string_list]\n",
        "  input_eval = tf.expand_dims(input_eval, 0)\n",
        "  text_generated = []\n",
        "  model.reset_states()\n",
        "  for i in range(num_generate):\n",
        "      predictions = model(input_eval)\n",
        "      predictions = tf.squeeze(predictions, 0)\n",
        "      predictions = predictions / temperature\n",
        "      predicted_id = tf.random.categorical(predictions, num_samples=1)[-1,0].numpy()\n",
        "      input_eval = tf.expand_dims([predicted_id], 0)\n",
        "      text_generated.append(idx2words[predicted_id])\n",
        "  return (start_string + ' '.join(text_generated))"
      ],
      "execution_count": 8,
      "outputs": []
    },
    {
      "cell_type": "code",
      "metadata": {
        "id": "dtcL1MWoI8zi",
        "colab": {
          "base_uri": "https://localhost:8080/"
        },
        "outputId": "c0a5f13c-dd36-4901-b146-db1c4fbe66cc"
      },
      "source": [
        "print(generate_text(main_lstm_model, start_string=u\"چنین گفت رستم به اسفندیار\"))\n",
        "main_lstm_model.save(\"/content/drive/MyDrive/Colab Notebooks/word_lstm.h5\")"
      ],
      "execution_count": 9,
      "outputs": [
        {
          "output_type": "stream",
          "text": [
            "چنین گفت رستم به اسفندیار\t که ای سرفرازان و گردان نو \n",
            " ازین پس چو برگشت و هم کینه‌جوی \t بفرمود تا شد بپشت سپاه \n",
            " بیامد بر لشکر نامدار \t درفش سپهدار توران نگون \n",
            " چو پیران چنان دید برگشت زری \t سوی لشکر خویش بنهاد روی \n",
            " نگه کرد پیران که خسرو بدرد \t ز هر سو بلشکر گه آورد زود \n",
            " چهارم کجا نیست امروز کار \t پشیمان شدم گر بتوران شوند \n",
            " ز ما هرک او جامهٔ هندوان \t یکی تیز و آن نامداران کین \n",
            " بخوردند سوگندهای گران \t که ای پهلوان رد لهراسپ شو \n",
            " که میخواستم کایزد دادگر \t ندادی تو برکندی از انجمن \n",
            " که دیوی بود \t ز خون ریختن بازکش خویشتن \n",
            " که من پیش خسرو بگوی \t که ای نامور گرد ویسه نژاد \n",
            " وز آنجا بهامون نهادند روی \t که گفتی ز گردان توران گروه \n",
            " طلایه سوی گاه رفتند باز \t پذیره فرستاد و برگشت کار \n",
            " بپیران چنین گفت پس پهلوان \t که توران سرافراز و اسپی مکان \n",
            " سوی پهلوان روی برگاشتند \t غریویدن و اسب و اسب و ستام \t ز کینه بخشم اندر آورد پای \n",
            " همه کار بر دست او بر نهاد \t همی بینم از\n",
            "WARNING:tensorflow:Compiled the loaded model, but the compiled metrics have yet to be built. `model.compile_metrics` will be empty until you train or evaluate the model.\n"
          ],
          "name": "stdout"
        }
      ]
    }
  ]
}