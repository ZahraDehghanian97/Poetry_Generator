{
  "nbformat": 4,
  "nbformat_minor": 0,
  "metadata": {
    "colab": {
      "name": "Word_Poem_generator.ipynb",
      "provenance": [],
      "mount_file_id": "16VJ0cJ1eg6evK69JcTF0Pglwr6Kx0pNu",
      "authorship_tag": "ABX9TyOxGZPBz/lKuK/Y6YLNKHDJ",
      "include_colab_link": true
    },
    "kernelspec": {
      "name": "python3",
      "display_name": "Python 3"
    },
    "language_info": {
      "name": "python"
    },
    "accelerator": "GPU"
  },
  "cells": [
    {
      "cell_type": "markdown",
      "metadata": {
        "id": "view-in-github",
        "colab_type": "text"
      },
      "source": [
        "<a href=\"https://colab.research.google.com/github/zahraDehghanian97/Poetry_Generator/blob/master/Word_Poem_generator.ipynb\" target=\"_parent\"><img src=\"https://colab.research.google.com/assets/colab-badge.svg\" alt=\"Open In Colab\"/></a>"
      ]
    },
    {
      "cell_type": "code",
      "metadata": {
        "id": "nF-7m57sBgdp"
      },
      "source": [
        "import tensorflow as tf\n",
        "from tensorflow import keras\n",
        "import numpy as np\n"
      ],
      "execution_count": 1,
      "outputs": []
    },
    {
      "cell_type": "code",
      "metadata": {
        "id": "erM3Mb3nuFAR"
      },
      "source": [
        "seqLength = 20\n",
        "BATCH_SIZE = 64\n",
        "BUFFER_SIZE = 100\n",
        "embedding_dim = 256\n",
        "rnn_units = 1024"
      ],
      "execution_count": 2,
      "outputs": []
    },
    {
      "cell_type": "markdown",
      "metadata": {
        "id": "pxSaPGaqHfMV"
      },
      "source": [
        "# make data ready"
      ]
    },
    {
      "cell_type": "code",
      "metadata": {
        "id": "NNCS1WcxmTMB"
      },
      "source": [
        "filepath = \"/content/drive/MyDrive/Colab Notebooks/shahname.txt\"\n",
        "text = open(filepath, 'rb').read().decode(encoding='utf-8')\n",
        "text = text.replace(\"\\t\",\" \\t \").replace(\"\\n\", \" \\n \")\n"
      ],
      "execution_count": 3,
      "outputs": []
    },
    {
      "cell_type": "code",
      "metadata": {
        "id": "f11TwQxzmVBv",
        "colab": {
          "base_uri": "https://localhost:8080/"
        },
        "outputId": "97772bb4-22dc-41e6-f1cd-6b73a102d128"
      },
      "source": [
        "corpusList = [w for w in text.split(' ')] \n",
        "corpus_words = [i for i in corpusList if i]\n",
        "map(str.strip, corpus_words)\n",
        "vocab = sorted(set(corpus_words))\n",
        "print(len(corpus_words))\n",
        "vocab_size = len(vocab)\n",
        "word2idx = {u: i for i, u in enumerate(vocab)}\n",
        "idx2words = np.array(vocab)\n",
        "word_as_int = np.array([word2idx[c] for c in corpus_words])"
      ],
      "execution_count": 4,
      "outputs": [
        {
          "output_type": "stream",
          "text": [
            "661330\n"
          ],
          "name": "stdout"
        }
      ]
    },
    {
      "cell_type": "code",
      "metadata": {
        "id": "LBLvTwoNhep0"
      },
      "source": [
        "def split_input_target(chunk):\n",
        "  input_text = chunk[:-1]\n",
        "  target_text = chunk[1:]\n",
        "  return input_text, target_text\n",
        "\n",
        "# examples_per_epoch = len(corpus_words)//(seqLength + 1)\n",
        "wordDataset = tf.data.Dataset.from_tensor_slices(word_as_int)\n",
        "sequencesOfWords = wordDataset.batch(seqLength + 1, drop_remainder=True)\n",
        "dataset = sequencesOfWords.map(split_input_target)\n",
        "dataset = dataset.shuffle(BUFFER_SIZE).batch(BATCH_SIZE, drop_remainder=True)"
      ],
      "execution_count": 5,
      "outputs": []
    },
    {
      "cell_type": "markdown",
      "metadata": {
        "id": "OLOB0rSQHbe7"
      },
      "source": [
        "# LSTM Model"
      ]
    },
    {
      "cell_type": "code",
      "metadata": {
        "id": "47qIyVAcHdak"
      },
      "source": [
        "def create_model_lstm(vocab_size, embedding_dim, rnn_units, batch_size):\n",
        "  model = tf.keras.Sequential()\n",
        "  model.add(tf.keras.layers.Embedding(vocab_size, embedding_dim,batch_input_shape=[batch_size, None]))\n",
        "  model.add(tf.keras.layers.LSTM(rnn_units,return_sequences=True,stateful=True,recurrent_initializer='glorot_uniform'))\n",
        "  model.add(tf.keras.layers.LSTM(rnn_units,return_sequences=True,stateful=True,recurrent_initializer='glorot_uniform'))\n",
        "  model.add(tf.keras.layers.Dense(vocab_size))\n",
        "  return model"
      ],
      "execution_count": 6,
      "outputs": []
    },
    {
      "cell_type": "code",
      "metadata": {
        "id": "73V4sMfZLT1n",
        "colab": {
          "base_uri": "https://localhost:8080/"
        },
        "outputId": "224ede13-851b-4d3a-e1ef-01d8c00abd35"
      },
      "source": [
        "# lstm_model = create_model_lstm(vocab_size = len(vocab), embedding_dim=embedding_dim, rnn_units=rnn_units, batch_size=BATCH_SIZE)\n",
        "# lstm_model.compile(optimizer='adam', loss=keras.losses.SparseCategoricalCrossentropy(from_logits=True), metrics=['accuracy'])\n",
        "# history = lstm_model.fit(dataset, epochs=50)\n",
        "main_lstm_model = create_model_lstm(vocab_size = len(vocab), embedding_dim=embedding_dim, rnn_units=rnn_units, batch_size=1)\n",
        "# main_lstm_model.set_weights(lstm_model.get_weights())\n",
        "main_lstm_model = tf.keras.models.load_model('/content/drive/MyDrive/Colab Notebooks/word_lstm.h5')\n",
        "main_lstm_model.summary()"
      ],
      "execution_count": 10,
      "outputs": [
        {
          "output_type": "stream",
          "text": [
            "WARNING:tensorflow:No training configuration found in the save file, so the model was *not* compiled. Compile it manually.\n",
            "Model: \"sequential_1\"\n",
            "_________________________________________________________________\n",
            "Layer (type)                 Output Shape              Param #   \n",
            "=================================================================\n",
            "embedding_1 (Embedding)      (1, None, 256)            5063680   \n",
            "_________________________________________________________________\n",
            "lstm_2 (LSTM)                (1, None, 1024)           5246976   \n",
            "_________________________________________________________________\n",
            "lstm_3 (LSTM)                (1, None, 1024)           8392704   \n",
            "_________________________________________________________________\n",
            "dense_1 (Dense)              (1, None, 19780)          20274500  \n",
            "=================================================================\n",
            "Total params: 38,977,860\n",
            "Trainable params: 38,977,860\n",
            "Non-trainable params: 0\n",
            "_________________________________________________________________\n"
          ],
          "name": "stdout"
        }
      ]
    },
    {
      "cell_type": "code",
      "metadata": {
        "id": "KL4gEU440DyQ"
      },
      "source": [
        "def generate_text(model, start_string, temperature = 0.6):\n",
        "  num_generate = 200\n",
        "  start_string_list =  [w for w in start_string.split(' ')]\n",
        "  input_eval = [word2idx[s] for s in start_string_list]\n",
        "  input_eval = tf.expand_dims(input_eval, 0)\n",
        "  text_generated = []\n",
        "  model.reset_states()\n",
        "  for i in range(num_generate):\n",
        "      predictions = model(input_eval)\n",
        "      predictions = tf.squeeze(predictions, 0)\n",
        "      predictions = predictions / temperature\n",
        "      predicted_id = tf.random.categorical(predictions, num_samples=1)[-1,0].numpy()\n",
        "      input_eval = tf.expand_dims([predicted_id], 0)\n",
        "      text_generated.append(idx2words[predicted_id])\n",
        "  return (start_string + ' '.join(text_generated))"
      ],
      "execution_count": 11,
      "outputs": []
    },
    {
      "cell_type": "code",
      "metadata": {
        "id": "dtcL1MWoI8zi",
        "colab": {
          "base_uri": "https://localhost:8080/"
        },
        "outputId": "0e6a2260-dcdf-431a-904a-6d94215badea"
      },
      "source": [
        "print(generate_text(main_lstm_model, start_string=u\"چنین گفت رستم به اسفندیار\"))\n",
        "main_lstm_model.save(\"/content/drive/MyDrive/Colab Notebooks/word_lstm.h5\")"
      ],
      "execution_count": 12,
      "outputs": [
        {
          "output_type": "stream",
          "text": [
            "چنین گفت رستم به اسفندیار\t که ای سرفرازان و گردان نو \n",
            " ازان پس که بد پیش شهر برک \t چه مایه بسختی بتوران ترا \n",
            " ز گودرز دستوری جنگ خواه \t پس آن نامه بنهاد سر بر زمین \n",
            " که بر خواندم گردش روزگار \t اگر بازگردد بسستی سپاه \n",
            " که گر من شوم کشته بر کینه‌گاه \t مگر خود برآیدت زین کینه کام \n",
            " پس آنگه بیزدان بنالید زار \t که کس با سپاه اندر آیم براه \n",
            " بلاون که خورشید تابنده ماه \t بر آیین یزدان‌پرستان شنید این زمان \t ابا نامداران توران گروه \n",
            " بپیش نیا شد همه انجمن \t ابا جوشن و گنج و آن گردگاه \n",
            " همی گرد گودرز بر گرد کوه \t نبودش بدو دادم و نیک و بد \n",
            " ز بس کرد باید تهیگاه و بس \t که روشن کند جان تاریک تو \n",
            " ز پیران فرستاده شد نزد شاه \t سپه را ز دشمن نگهدار باش \n",
            " ز هر سو که پویی همی با سپاه \t مبیناد چشم بد روزگار \n",
            " که گر من شوم کشته بر دست من \t گذر کرد آهنگ ایشان زمین \n",
            " همی بود نالان ز کینه خور \t ز پولاد رخشان دو رخساره زرد \n",
            " چو از روزنه ساعت اندر\n",
            "WARNING:tensorflow:Compiled the loaded model, but the compiled metrics have yet to be built. `model.compile_metrics` will be empty until you train or evaluate the model.\n"
          ],
          "name": "stdout"
        }
      ]
    }
  ]
}